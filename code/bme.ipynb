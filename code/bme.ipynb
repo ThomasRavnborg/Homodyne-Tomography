{
 "cells": [
  {
   "cell_type": "markdown",
   "id": "b6412578",
   "metadata": {},
   "source": [
    "Bayesian Mean Estimate "
   ]
  },
  {
   "cell_type": "code",
   "execution_count": 1,
   "id": "4b5503da",
   "metadata": {},
   "outputs": [],
   "source": [
    "# import libraries\n",
    "import os\n",
    "import numpy as np\n",
    "import pandas as pd\n",
    "import matplotlib.pyplot as plt\n",
    "from matplotlib.ticker import (MultipleLocator, AutoMinorLocator)\n",
    "\n",
    "from pathlib import Path\n",
    "\n",
    "from BME import bme\n"
   ]
  },
  {
   "cell_type": "code",
   "execution_count": 2,
   "id": "a38504fa",
   "metadata": {},
   "outputs": [
    {
     "name": "stdout",
     "output_type": "stream",
     "text": [
      "/Users/jansc/Documents/QIS/Spring2025/SCIQIS/Homodyne-Tomography/data/dataframes/091027\n",
      "Computing Markov chain...\n",
      "\n"
     ]
    },
    {
     "name": "stderr",
     "output_type": "stream",
     "text": [
      "100%|██████████| 10000/10000 [00:02<00:00, 4152.04it/s]"
     ]
    },
    {
     "name": "stdout",
     "output_type": "stream",
     "text": [
      "[[ 2.47534897e-01+0.00000000e+00j  4.03626931e-02-6.89791020e-03j\n",
      "   5.28504618e-02-1.27151139e-01j -1.16723671e-02-5.59462403e-03j\n",
      "  -3.22907586e-02-3.10295360e-02j -2.74810564e-04+3.57107135e-03j\n",
      "  -8.82224086e-03+2.10315668e-03j  2.03428512e-03+5.14292401e-04j\n",
      "  -7.00259299e-04+7.02302173e-04j -1.74245724e-04-6.27684982e-04j]\n",
      " [ 4.03626931e-02+6.89791020e-03j  5.20860141e-01+0.00000000e+00j\n",
      "  -6.45192689e-02-5.98798835e-02j  6.95654088e-02-1.42547220e-01j\n",
      "  -3.60265161e-02+1.20251124e-02j -2.39391370e-02-3.12040963e-02j\n",
      "   1.65899355e-03+1.24602722e-02j -9.14137170e-03+6.62581163e-04j\n",
      "   3.68876349e-03+3.83904137e-04j -1.92556895e-03+3.14344460e-03j]\n",
      " [ 5.28504618e-02+1.27151139e-01j -6.45192689e-02+5.98798835e-02j\n",
      "   1.24553409e-01+0.00000000e+00j -4.35076996e-04+2.03726286e-02j\n",
      "   1.74526754e-02-3.86467492e-02j  2.32462932e-03+5.14705876e-03j\n",
      "  -6.15279385e-03-8.82672457e-03j  1.44976315e-03+1.21443581e-03j\n",
      "  -1.40677714e-03-2.37661134e-04j  6.66736418e-04-9.64531301e-04j]\n",
      " [-1.16723671e-02+5.59462403e-03j  6.95654088e-02+1.42547220e-01j\n",
      "  -4.35076996e-04-2.03726286e-02j  7.01394531e-02+0.00000000e+00j\n",
      "  -1.02726394e-02-5.88120182e-03j  8.34011487e-03-1.69645580e-02j\n",
      "  -3.56733382e-03+3.44486201e-03j -2.36691760e-03-3.81378168e-03j\n",
      "   7.98837130e-04+1.65060341e-03j -1.72938150e-03-2.29140831e-05j]\n",
      " [-3.22907586e-02+3.10295360e-02j -3.60265161e-02-1.20251124e-02j\n",
      "   1.74526754e-02+3.86467492e-02j -1.02726394e-02+5.88120182e-03j\n",
      "   2.18085209e-02+0.00000000e+00j -1.71596186e-03+3.62853866e-03j\n",
      "   2.89762930e-03-5.22317352e-03j  1.13856322e-04+1.13140817e-03j\n",
      "  -3.65801696e-04-7.40594195e-04j  7.00066218e-04+9.16753514e-06j]\n",
      " [-2.74810564e-04-3.57107135e-03j -2.39391370e-02+3.12040963e-02j\n",
      "   2.32462932e-03-5.14705876e-03j  8.34011487e-03+1.69645580e-02j\n",
      "  -1.71596186e-03-3.62853866e-03j  9.74447767e-03+0.00000000e+00j\n",
      "  -1.95916493e-03-5.60226571e-05j  1.20528468e-03-1.91950501e-03j\n",
      "  -5.18477633e-04+8.20928169e-04j -3.79526414e-04-7.04764285e-04j]\n",
      " [-8.82224086e-03-2.10315668e-03j  1.65899355e-03-1.24602722e-02j\n",
      "  -6.15279385e-03+8.82672457e-03j -3.56733382e-03-3.44486201e-03j\n",
      "   2.89762930e-03+5.22317352e-03j -1.95916493e-03+5.60226571e-05j\n",
      "   3.38028466e-03+0.00000000e+00j -4.41455393e-04+4.06951469e-04j\n",
      "   2.03619353e-04-3.71543993e-04j  1.89164892e-04+3.13090961e-04j]\n",
      " [ 2.03428512e-03-5.14292401e-04j -9.14137170e-03-6.62581163e-04j\n",
      "   1.44976315e-03-1.21443581e-03j -2.36691760e-03+3.81378168e-03j\n",
      "   1.13856322e-04-1.13140817e-03j  1.20528468e-03+1.91950501e-03j\n",
      "  -4.41455393e-04-4.06951469e-04j  1.33593912e-03+0.00000000e+00j\n",
      "  -4.20214206e-04-1.31442745e-05j  1.97835499e-04-3.24399734e-04j]\n",
      " [-7.00259299e-04-7.02302173e-04j  3.68876349e-03-3.83904137e-04j\n",
      "  -1.40677714e-03+2.37661134e-04j  7.98837130e-04-1.65060341e-03j\n",
      "  -3.65801696e-04+7.40594195e-04j -5.18477633e-04-8.20928169e-04j\n",
      "   2.03619353e-04+3.71543993e-04j -4.20214206e-04+1.31442745e-05j\n",
      "   4.31283081e-04+0.00000000e+00j -5.64824509e-05+1.37842273e-04j]\n",
      " [-1.74245724e-04+6.27684982e-04j -1.92556895e-03-3.14344460e-03j\n",
      "   6.66736418e-04+9.64531301e-04j -1.72938150e-03+2.29140831e-05j\n",
      "   7.00066218e-04-9.16753514e-06j -3.79526414e-04+7.04764285e-04j\n",
      "   1.89164892e-04-3.13090961e-04j  1.97835499e-04+3.24399734e-04j\n",
      "  -5.64824509e-05-1.37842273e-04j  2.11593988e-04+0.00000000e+00j]]\n"
     ]
    },
    {
     "name": "stderr",
     "output_type": "stream",
     "text": [
      "\n"
     ]
    }
   ],
   "source": [
    "# Loading data\n",
    "parent = Path(os.path.dirname(os.getcwd()))\n",
    "date = \"091027\"\n",
    "state = \"cat2\"\n",
    "\n",
    "data_path = parent / \"data\" / \"dataframes\" / date\n",
    "print(data_path)\n",
    "data = pd.read_csv(data_path / (state + '.csv'))\n",
    "# Convert to numpy array\n",
    "x_values = np.array(data)\n",
    "x_values = np.swapaxes(x_values, 0, 1)\n",
    "\n",
    "# Make array from 0 to 165 in steps of 15\n",
    "thetas = np.arange(0, 166, 15)\n",
    "# Convert to radians\n",
    "thetas = np.radians(thetas)\n",
    "theta0 = np.deg2rad(147)\n",
    "x0 = -0.08\n",
    "\n",
    "theta0 = 0\n",
    "x0 = 0\n",
    "\n",
    "N = 10\n",
    "nrho = 10000\n",
    "num_bins = 200\n",
    "eps=0.001\n",
    "\n",
    "rho_est = bme(thetas-theta0, \n",
    "              x_values-x0,\n",
    "              num_bins=num_bins,\n",
    "              nrho=nrho,\n",
    "              N=N,\n",
    "              eps=eps\n",
    "              )\n",
    "print(rho_est)\n",
    "np.save(\"rho_est.npy\", rho_est)\n",
    "\n"
   ]
  },
  {
   "cell_type": "code",
   "execution_count": 3,
   "id": "ecfb665d",
   "metadata": {},
   "outputs": [],
   "source": [
    "# Global plot style settings\n",
    "plt.rcParams.update({\n",
    "    \"font.family\": \"serif\",\n",
    "    \"font.serif\": [\"DejaVu Serif\"],\n",
    "    \"mathtext.fontset\": \"cm\",            # Use Computer Modern for math\n",
    "    \"font.size\": 14,                     # Base font size\n",
    "    \"axes.labelsize\": 16,                # Axis label font size\n",
    "    \"axes.titlesize\": 16,                # Title font size\n",
    "    \"legend.fontsize\": 13,               # Legend font size\n",
    "    \"xtick.labelsize\": 13,               # X tick label size\n",
    "    \"ytick.labelsize\": 13,               # Y tick label size\n",
    "    \"axes.linewidth\": 1.2,               # Thicker axis lines\n",
    "    \"xtick.direction\": \"in\",             # x-yick direction\n",
    "    \"ytick.direction\": \"in\",             # y-tick direction\n",
    "    \"text.usetex\": False,                # Enable LaTeX if needed\n",
    "    \"figure.dpi\": 150,                   # Good resolution for screens\n",
    "    \"savefig.dpi\": 300                   # High resolution for saving\n",
    "})"
   ]
  },
  {
   "cell_type": "code",
   "execution_count": 4,
   "id": "35d3222a",
   "metadata": {},
   "outputs": [],
   "source": [
    "from WignerDensity import rho_to_Wigner\n",
    "\n",
    "# Define function for nice plotting\n",
    "def PlotSettings(ax, gridlines=False, minimalist=False):\n",
    "    # Minor ticks\n",
    "    ax.xaxis.set_minor_locator(AutoMinorLocator())\n",
    "    ax.yaxis.set_minor_locator(AutoMinorLocator())\n",
    "    # Minimalist style\n",
    "    if minimalist:\n",
    "        # Hide top and right spines (borders)\n",
    "        ax.spines['top'].set_visible(False)\n",
    "        ax.spines['right'].set_visible(False)\n",
    "        # Ticks only on bottom and left\n",
    "        ax.tick_params(which='both', top=False, right=False)\n",
    "    else:\n",
    "        # Tick parameters\n",
    "        ax.tick_params(which='both', direction='in', top=True, right=True)\n",
    "        ax.tick_params(which='major', length=7, width=1.2)\n",
    "        ax.tick_params(which='minor', length=4, width=1)\n",
    "    # Optional grid\n",
    "    if gridlines:\n",
    "        ax.grid(True, which=\"major\", linestyle=\"--\", linewidth=0.6, alpha=0.7)\n",
    "        ax.grid(True, which=\"minor\", linestyle=\":\", linewidth=0.5, alpha=0.4)\n",
    "\n",
    "def plot_Wigner(rho_est):\n",
    "    # Plot Wigner function\n",
    "    xvec = np.linspace(-4, 4, 200)\n",
    "    W = rho_to_Wigner(rho_est, xvec, xvec)\n",
    "    X, Y = np.meshgrid(xvec, xvec)\n",
    "    vmin, vmax = -1/np.pi, 1/np.pi\n",
    "    levels = np.linspace(vmin, vmax, 41)  # force levels across full range\n",
    "\n",
    "    fig, ax = plt.subplots(figsize=(6, 5))\n",
    "    # Filled contours with transparency\n",
    "    contour_filled = ax.contourf(X, Y, W, levels=levels,\n",
    "                                cmap='seismic', alpha=0.8, vmin=vmin, vmax=vmax)\n",
    "    # Colorbar\n",
    "    cbar = fig.colorbar(contour_filled, ax=ax, ticks=[-1/np.pi, 1/np.pi])\n",
    "    cbar.ax.set_yticklabels([r\"$-1/\\pi$\", r\"$1/\\pi$\"])  # custom tick labels if needed\n",
    "    # Move axes to cross at (0,0)\n",
    "    ax.spines['left'].set_position('zero')\n",
    "    ax.spines['bottom'].set_position('zero')\n",
    "    ax.spines['right'].set_color('none')\n",
    "    ax.spines['top'].set_color('none')\n",
    "    # Set x- and y-ticks skipping 0\n",
    "    ax.set_xticks([-3, -2, -1, 1, 2, 3])\n",
    "    ax.set_yticks([-3, -2, -1, 1, 2, 3])\n",
    "    PlotSettings(ax, minimalist=True)\n",
    "    plt.show()"
   ]
  },
  {
   "cell_type": "code",
   "execution_count": 5,
   "id": "ae2c596e",
   "metadata": {},
   "outputs": [
    {
     "data": {
      "image/png": "[encoded data removed]",
      "text/plain": [
       "<Figure size 900x750 with 2 Axes>"
      ]
     },
     "metadata": {},
     "output_type": "display_data"
    }
   ],
   "source": [
    "plot_Wigner(rho_est)"
   ]
  },
  {
   "cell_type": "code",
   "execution_count": null,
   "id": "45a0f9cf",
   "metadata": {},
   "outputs": [],
   "source": []
  }
 ],
 "metadata": {
  "kernelspec": {
   "display_name": "sciqis (3.13.5)",
   "language": "python",
   "name": "python3"
  },
  "language_info": {
   "codemirror_mode": {
    "name": "ipython",
    "version": 3
   },
   "file_extension": ".py",
   "mimetype": "text/x-python",
   "name": "python",
   "nbconvert_exporter": "python",
   "pygments_lexer": "ipython3",
   "version": "3.13.5"
  }
 },
 "nbformat": 4,
 "nbformat_minor": 5
}
