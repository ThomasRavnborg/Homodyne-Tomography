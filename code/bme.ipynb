{
 "cells": [
  {
   "cell_type": "markdown",
   "id": "b6412578",
   "metadata": {},
   "source": [
    "Bayesian Mean Estimate "
   ]
  },
  {
   "cell_type": "code",
   "execution_count": 1,
   "id": "4b5503da",
   "metadata": {},
   "outputs": [],
   "source": [
    "# import libraries\n",
    "import os\n",
    "import numpy as np\n",
    "import pandas as pd\n",
    "import matplotlib.pyplot as plt\n",
    "from matplotlib.ticker import (MultipleLocator, AutoMinorLocator)\n",
    "\n",
    "from pathlib import Path\n",
    "\n",
    "from BME import bme\n"
   ]
  },
  {
   "cell_type": "code",
   "execution_count": 2,
   "id": "a38504fa",
   "metadata": {},
   "outputs": [
    {
     "name": "stdout",
     "output_type": "stream",
     "text": [
      "/Users/jansc/Documents/QIS/Spring2025/SCIQIS/Homodyne-Tomography/data/dataframes/091027\n",
      "Creating Markov chain...\n",
      "\n"
     ]
    },
    {
     "name": "stderr",
     "output_type": "stream",
     "text": [
      "  0%|          | 21/10000 [00:00<01:39, 100.01it/s]/Users/jansc/Documents/QIS/Spring2025/SCIQIS/Homodyne-Tomography/code/BME.py:109: RuntimeWarning: overflow encountered in exp\n",
      "  A = np.min([1, np.exp(log_A)])\n",
      "100%|██████████| 10000/10000 [01:39<00:00, 100.72it/s]"
     ]
    },
    {
     "name": "stdout",
     "output_type": "stream",
     "text": [
      "[[ 2.37619012e-01+0.00000000e+00j  3.16975365e-02-8.76239395e-03j\n",
      "   4.83819536e-02-1.06613938e-01j -1.28549102e-02-1.89851546e-04j\n",
      "  -2.15393470e-02-2.68733154e-02j -1.59522426e-03+6.32292293e-03j\n",
      "  -8.63139553e-03+5.69646280e-04j  3.15373759e-03-7.15464351e-04j\n",
      "  -4.44563514e-04+1.13804705e-04j  3.75767054e-04-6.77137239e-04j]\n",
      " [ 3.16975365e-02+8.76239395e-03j  4.76921132e-01+0.00000000e+00j\n",
      "  -5.29221068e-02-4.83764608e-02j  5.66154118e-02-1.23090449e-01j\n",
      "  -2.63913003e-02+1.31820130e-02j -2.43266881e-02-2.99232378e-02j\n",
      "   2.06276271e-03+9.39401941e-03j -8.69255814e-03+2.78344002e-04j\n",
      "   3.02068369e-03-1.59667005e-04j -2.92500630e-03+4.48667827e-03j]\n",
      " [ 4.83819536e-02+1.06613938e-01j -5.29221068e-02+4.83764608e-02j\n",
      "   1.27504666e-01+0.00000000e+00j -4.86518643e-03+1.28702443e-02j\n",
      "   1.65304966e-02-3.19949916e-02j  5.15405560e-04+4.65609577e-03j\n",
      "  -4.40527870e-03-8.13456140e-03j  2.89690036e-03+1.64502791e-03j\n",
      "  -9.14518648e-04+3.59653694e-04j  1.71127510e-03+2.60015835e-04j]\n",
      " [-1.28549102e-02+1.89851546e-04j  5.66154118e-02+1.23090449e-01j\n",
      "  -4.86518643e-03-1.28702443e-02j  7.38912084e-02+0.00000000e+00j\n",
      "  -8.51435811e-03-1.98529970e-03j  6.82676353e-03-1.75817587e-02j\n",
      "  -2.36310167e-03+3.91617214e-03j -3.21857358e-03-3.13411141e-03j\n",
      "  -4.16528210e-06+1.06099258e-03j -2.70108177e-03-4.55254223e-05j]\n",
      " [-2.15393470e-02+2.68733154e-02j -2.63913003e-02-1.31820130e-02j\n",
      "   1.65304966e-02+3.19949916e-02j -8.51435811e-03+1.98529970e-03j\n",
      "   3.03511881e-02+0.00000000e+00j -1.94275626e-03+2.54687757e-03j\n",
      "   1.87212372e-03-4.31417498e-03j -1.52404014e-04+1.00762418e-03j\n",
      "   8.38352818e-05-8.34238152e-04j  6.58472055e-04+5.36051064e-04j]\n",
      " [-1.59522426e-03-6.32292293e-03j -2.43266881e-02+2.99232378e-02j\n",
      "   5.15405560e-04-4.65609577e-03j  6.82676353e-03+1.75817587e-02j\n",
      "  -1.94275626e-03-2.54687757e-03j  1.84764100e-02+0.00000000e+00j\n",
      "  -2.14587244e-03+4.09200681e-04j  1.81830424e-03-2.88390792e-03j\n",
      "  -3.01512001e-04+9.86031864e-04j -1.55924042e-05-8.25047595e-04j]\n",
      " [-8.63139553e-03-5.69646280e-04j  2.06276271e-03-9.39401941e-03j\n",
      "  -4.40527870e-03+8.13456140e-03j -2.36310167e-03-3.91617214e-03j\n",
      "   1.87212372e-03+4.31417498e-03j -2.14587244e-03-4.09200681e-04j\n",
      "   1.12519634e-02+0.00000000e+00j -8.78286945e-04+5.43356486e-04j\n",
      "  -3.56226981e-05-6.81539628e-04j -6.36173021e-04+3.47294416e-04j]\n",
      " [ 3.15373759e-03+7.15464351e-04j -8.69255814e-03-2.78344002e-04j\n",
      "   2.89690036e-03-1.64502791e-03j -3.21857358e-03+3.13411141e-03j\n",
      "  -1.52404014e-04-1.00762418e-03j  1.81830424e-03+2.88390792e-03j\n",
      "  -8.78286945e-04-5.43356486e-04j  9.33377776e-03+0.00000000e+00j\n",
      "  -5.43617165e-04-4.61428378e-05j  7.38960444e-04+8.99056759e-06j]\n",
      " [-4.44563514e-04-1.13804705e-04j  3.02068369e-03+1.59667005e-04j\n",
      "  -9.14518648e-04-3.59653694e-04j -4.16528210e-06-1.06099258e-03j\n",
      "   8.38352818e-05+8.34238152e-04j -3.01512001e-04-9.86031864e-04j\n",
      "  -3.56226981e-05+6.81539628e-04j -5.43617165e-04+4.61428378e-05j\n",
      "   7.00763700e-03+0.00000000e+00j  1.04128775e-04-2.16059619e-04j]\n",
      " [ 3.75767054e-04+6.77137239e-04j -2.92500630e-03-4.48667827e-03j\n",
      "   1.71127510e-03-2.60015835e-04j -2.70108177e-03+4.55254223e-05j\n",
      "   6.58472055e-04-5.36051064e-04j -1.55924042e-05+8.25047595e-04j\n",
      "  -6.36173021e-04-3.47294416e-04j  7.38960444e-04-8.99056759e-06j\n",
      "   1.04128775e-04+2.16059619e-04j  7.64300519e-03+0.00000000e+00j]]\n"
     ]
    },
    {
     "name": "stderr",
     "output_type": "stream",
     "text": [
      "\n"
     ]
    }
   ],
   "source": [
    "# Loading data\n",
    "parent = Path(os.path.dirname(os.getcwd()))\n",
    "date = \"091027\"\n",
    "state = \"cat2\"\n",
    "\n",
    "data_path = parent / \"data\" / \"dataframes\" / date\n",
    "print(data_path)\n",
    "data = pd.read_csv(data_path / (state + '.csv'))\n",
    "# Convert to numpy array\n",
    "x_values = np.array(data)\n",
    "x_values = np.swapaxes(x_values, 0, 1)\n",
    "\n",
    "# Make array from 0 to 165 in steps of 15\n",
    "thetas = np.arange(0, 166, 15)\n",
    "# Convert to radians\n",
    "thetas = np.radians(thetas)\n",
    "theta0 = np.deg2rad(147)\n",
    "x0 = -0.08\n",
    "\n",
    "theta0 = 0\n",
    "x0 = 0\n",
    "\n",
    "N = 10\n",
    "nrho = 10000\n",
    "num_bins = 200\n",
    "eps=0.001\n",
    "\n",
    "rho_est = bme(thetas-theta0, \n",
    "              x_values-x0,\n",
    "              num_bins=num_bins,\n",
    "              nrho=nrho,\n",
    "              N=N,\n",
    "              eps=eps\n",
    "              )\n",
    "print(rho_est)\n",
    "np.save(\"rho_est.npy\", rho_est)\n",
    "\n"
   ]
  },
  {
   "cell_type": "code",
   "execution_count": 3,
   "id": "ecfb665d",
   "metadata": {},
   "outputs": [],
   "source": [
    "# Global plot style settings\n",
    "plt.rcParams.update({\n",
    "    \"font.family\": \"serif\",\n",
    "    \"font.serif\": [\"DejaVu Serif\"],\n",
    "    \"mathtext.fontset\": \"cm\",            # Use Computer Modern for math\n",
    "    \"font.size\": 14,                     # Base font size\n",
    "    \"axes.labelsize\": 16,                # Axis label font size\n",
    "    \"axes.titlesize\": 16,                # Title font size\n",
    "    \"legend.fontsize\": 13,               # Legend font size\n",
    "    \"xtick.labelsize\": 13,               # X tick label size\n",
    "    \"ytick.labelsize\": 13,               # Y tick label size\n",
    "    \"axes.linewidth\": 1.2,               # Thicker axis lines\n",
    "    \"xtick.direction\": \"in\",             # x-yick direction\n",
    "    \"ytick.direction\": \"in\",             # y-tick direction\n",
    "    \"text.usetex\": False,                # Enable LaTeX if needed\n",
    "    \"figure.dpi\": 150,                   # Good resolution for screens\n",
    "    \"savefig.dpi\": 300                   # High resolution for saving\n",
    "})"
   ]
  },
  {
   "cell_type": "code",
   "execution_count": 4,
   "id": "35d3222a",
   "metadata": {},
   "outputs": [],
   "source": [
    "from WignerDensity import rho_to_Wigner\n",
    "\n",
    "# Define function for nice plotting\n",
    "def PlotSettings(ax, gridlines=False, minimalist=False):\n",
    "    # Minor ticks\n",
    "    ax.xaxis.set_minor_locator(AutoMinorLocator())\n",
    "    ax.yaxis.set_minor_locator(AutoMinorLocator())\n",
    "    # Minimalist style\n",
    "    if minimalist:\n",
    "        # Hide top and right spines (borders)\n",
    "        ax.spines['top'].set_visible(False)\n",
    "        ax.spines['right'].set_visible(False)\n",
    "        # Ticks only on bottom and left\n",
    "        ax.tick_params(which='both', top=False, right=False)\n",
    "    else:\n",
    "        # Tick parameters\n",
    "        ax.tick_params(which='both', direction='in', top=True, right=True)\n",
    "        ax.tick_params(which='major', length=7, width=1.2)\n",
    "        ax.tick_params(which='minor', length=4, width=1)\n",
    "    # Optional grid\n",
    "    if gridlines:\n",
    "        ax.grid(True, which=\"major\", linestyle=\"--\", linewidth=0.6, alpha=0.7)\n",
    "        ax.grid(True, which=\"minor\", linestyle=\":\", linewidth=0.5, alpha=0.4)\n",
    "\n",
    "def plot_Wigner(rho_est):\n",
    "    # Plot Wigner function\n",
    "    xvec = np.linspace(-4, 4, 200)\n",
    "    W = rho_to_Wigner(rho_est, xvec, xvec)\n",
    "    X, Y = np.meshgrid(xvec, xvec)\n",
    "    vmin, vmax = -1/np.pi, 1/np.pi\n",
    "    levels = np.linspace(vmin, vmax, 41)  # force levels across full range\n",
    "\n",
    "    fig, ax = plt.subplots(figsize=(6, 5))\n",
    "    # Filled contours with transparency\n",
    "    contour_filled = ax.contourf(X, Y, W, levels=levels,\n",
    "                                cmap='seismic', alpha=0.8, vmin=vmin, vmax=vmax)\n",
    "    # Colorbar\n",
    "    cbar = fig.colorbar(contour_filled, ax=ax, ticks=[-1/np.pi, 1/np.pi])\n",
    "    cbar.ax.set_yticklabels([r\"$-1/\\pi$\", r\"$1/\\pi$\"])  # custom tick labels if needed\n",
    "    # Move axes to cross at (0,0)\n",
    "    ax.spines['left'].set_position('zero')\n",
    "    ax.spines['bottom'].set_position('zero')\n",
    "    ax.spines['right'].set_color('none')\n",
    "    ax.spines['top'].set_color('none')\n",
    "    # Set x- and y-ticks skipping 0\n",
    "    ax.set_xticks([-3, -2, -1, 1, 2, 3])\n",
    "    ax.set_yticks([-3, -2, -1, 1, 2, 3])\n",
    "    PlotSettings(ax, minimalist=True)\n",
    "    plt.show()"
   ]
  },
  {
   "cell_type": "code",
   "execution_count": 5,
   "id": "ae2c596e",
   "metadata": {},
   "outputs": [
    {
     "data": {
      "image/png": "[encoded data removed]",
      "text/plain": [
       "<Figure size 900x750 with 2 Axes>"
      ]
     },
     "metadata": {},
     "output_type": "display_data"
    }
   ],
   "source": [
    "plot_Wigner(rho_est)"
   ]
  },
  {
   "cell_type": "code",
   "execution_count": null,
   "id": "45a0f9cf",
   "metadata": {},
   "outputs": [],
   "source": []
  }
 ],
 "metadata": {
  "kernelspec": {
   "display_name": "sciqis (3.13.5)",
   "language": "python",
   "name": "python3"
  },
  "language_info": {
   "codemirror_mode": {
    "name": "ipython",
    "version": 3
   },
   "file_extension": ".py",
   "mimetype": "text/x-python",
   "name": "python",
   "nbconvert_exporter": "python",
   "pygments_lexer": "ipython3",
   "version": "3.13.5"
  }
 },
 "nbformat": 4,
 "nbformat_minor": 5
}
