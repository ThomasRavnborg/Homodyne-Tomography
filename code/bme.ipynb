{
 "cells": [
  {
   "cell_type": "markdown",
   "id": "b6412578",
   "metadata": {},
   "source": [
    "Bayesian Mean Estimate "
   ]
  },
  {
   "cell_type": "markdown",
   "id": "ad9a3464",
   "metadata": {},
   "source": []
  },
  {
   "cell_type": "code",
   "execution_count": null,
   "id": "a38504fa",
   "metadata": {},
   "outputs": [],
   "source": []
  }
 ],
 "metadata": {
  "language_info": {
   "name": "python"
  }
 },
 "nbformat": 4,
 "nbformat_minor": 5
}
