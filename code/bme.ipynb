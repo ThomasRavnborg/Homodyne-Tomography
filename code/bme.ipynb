{
 "cells": [
  {
   "cell_type": "markdown",
   "id": "b6412578",
   "metadata": {},
   "source": [
    "Bayesian Mean Estimate "
   ]
  },
  {
   "cell_type": "code",
   "execution_count": 2,
   "id": "4b5503da",
   "metadata": {},
   "outputs": [],
   "source": [
    "# import libraries\n",
    "import numpy as np\n",
    "from IPython.display import Latex\n"
   ]
  },
  {
   "cell_type": "markdown",
   "id": "ad9a3464",
   "metadata": {},
   "source": [
    "# The BME algorithm:\n",
    "1. "
   ]
  },
  {
   "cell_type": "code",
   "execution_count": null,
   "id": "a38504fa",
   "metadata": {},
   "outputs": [],
   "source": []
  }
 ],
 "metadata": {
  "kernelspec": {
   "display_name": "sciqis (3.13.5)",
   "language": "python",
   "name": "python3"
  },
  "language_info": {
   "codemirror_mode": {
    "name": "ipython",
    "version": 3
   },
   "file_extension": ".py",
   "mimetype": "text/x-python",
   "name": "python",
   "nbconvert_exporter": "python",
   "pygments_lexer": "ipython3",
   "version": "3.13.5"
  }
 },
 "nbformat": 4,
 "nbformat_minor": 5
}
