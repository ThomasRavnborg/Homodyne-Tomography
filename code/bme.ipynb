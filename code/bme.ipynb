{
 "cells": [
  {
   "cell_type": "markdown",
   "id": "b6412578",
   "metadata": {},
   "source": [
    "Bayesian Mean Estimate "
   ]
  },
  {
   "cell_type": "code",
   "execution_count": 1,
   "id": "4b5503da",
   "metadata": {},
   "outputs": [],
   "source": [
    "# import libraries\n",
    "import os\n",
    "import numpy as np\n",
    "import pandas as pd\n",
    "import matplotlib.pyplot as plt\n",
    "from matplotlib.ticker import (MultipleLocator, AutoMinorLocator)\n",
    "\n",
    "from pathlib import Path\n",
    "\n",
    "from BME import run_BME, run_BME_benchmark\n",
    "\n",
    "\n",
    "# Global plot style settings\n",
    "plt.rcParams.update({\n",
    "    \"font.family\": \"serif\",\n",
    "    \"font.serif\": [\"DejaVu Serif\"],\n",
    "    \"mathtext.fontset\": \"cm\",            # Use Computer Modern for math\n",
    "    \"font.size\": 14,                     # Base font size\n",
    "    \"axes.labelsize\": 16,                # Axis label font size\n",
    "    \"axes.titlesize\": 16,                # Title font size\n",
    "    \"legend.fontsize\": 13,               # Legend font size\n",
    "    \"xtick.labelsize\": 13,               # X tick label size\n",
    "    \"ytick.labelsize\": 13,               # Y tick label size\n",
    "    \"axes.linewidth\": 1.2,               # Thicker axis lines\n",
    "    \"xtick.direction\": \"in\",             # x-yick direction\n",
    "    \"ytick.direction\": \"in\",             # y-tick direction\n",
    "    \"text.usetex\": False,                # Enable LaTeX if needed\n",
    "    \"figure.dpi\": 150,                   # Good resolution for screens\n",
    "    \"savefig.dpi\": 300                   # High resolution for saving\n",
    "})"
   ]
  },
  {
   "cell_type": "code",
   "execution_count": 2,
   "id": "46a8d824",
   "metadata": {},
   "outputs": [],
   "source": [
    "# Define function for nice plotting\n",
    "def PlotSettings(ax, gridlines=False, minimalist=False):\n",
    "    # Minor ticks\n",
    "    ax.xaxis.set_minor_locator(AutoMinorLocator())\n",
    "    ax.yaxis.set_minor_locator(AutoMinorLocator())\n",
    "    # Minimalist style\n",
    "    if minimalist:\n",
    "        # Hide top and right spines (borders)\n",
    "        ax.spines['top'].set_visible(False)\n",
    "        ax.spines['right'].set_visible(False)\n",
    "        # Ticks only on bottom and left\n",
    "        ax.tick_params(which='both', top=False, right=False)\n",
    "    else:\n",
    "        # Tick parameters\n",
    "        ax.tick_params(which='both', direction='in', top=True, right=True)\n",
    "        ax.tick_params(which='major', length=7, width=1.2)\n",
    "        ax.tick_params(which='minor', length=4, width=1)\n",
    "    # Optional grid\n",
    "    if gridlines:\n",
    "        ax.grid(True, which=\"major\", linestyle=\"--\", linewidth=0.6, alpha=0.7)\n",
    "        ax.grid(True, which=\"minor\", linestyle=\":\", linewidth=0.5, alpha=0.4)"
   ]
  },
  {
   "cell_type": "code",
   "execution_count": 3,
   "id": "a38504fa",
   "metadata": {},
   "outputs": [
    {
     "name": "stdout",
     "output_type": "stream",
     "text": [
      "/Users/jansc/Documents/QIS/Spring2025/SCIQIS/Homodyne-Tomography/data/dataframes/091027\n",
      "Computing Markov chain...\n",
      "\n"
     ]
    },
    {
     "name": "stderr",
     "output_type": "stream",
     "text": [
      "100%|██████████| 10000/10000 [00:02<00:00, 4358.03it/s]"
     ]
    },
    {
     "name": "stdout",
     "output_type": "stream",
     "text": [
      "[[ 2.47948194e-01+0.00000000e+00j  3.90253760e-02-3.61742761e-03j\n",
      "   5.54484721e-02-1.29042773e-01j -7.76923836e-03-4.17434782e-03j\n",
      "  -2.94153580e-02-3.24031394e-02j  5.19956911e-03-1.49825059e-03j\n",
      "  -1.14939625e-02+2.61678729e-03j  2.49386116e-04-2.44496838e-03j\n",
      "  -8.82105643e-04+4.33723299e-03j -3.03498552e-04-6.32544010e-04j]\n",
      " [ 3.90253760e-02+3.61742761e-03j  5.20434253e-01+0.00000000e+00j\n",
      "  -6.63055085e-02-6.62450179e-02j  6.72542617e-02-1.38998336e-01j\n",
      "  -4.54639621e-02+1.79076862e-02j -2.06980048e-02-2.87971428e-02j\n",
      "  -7.95083302e-04+2.08996796e-02j -6.76701499e-03-1.07429775e-04j\n",
      "   3.14961818e-03+2.80870324e-03j -6.57541011e-04-4.49033840e-05j]\n",
      " [ 5.54484721e-02+1.29042773e-01j -6.63055085e-02+6.62450179e-02j\n",
      "   1.27554461e-01+0.00000000e+00j  2.70893327e-04+2.30367663e-02j\n",
      "   1.93818708e-02-4.06815591e-02j  7.43915119e-03+5.66583611e-03j\n",
      "  -8.10255548e-03-1.07166599e-02j  2.87786574e-03-1.09822343e-03j\n",
      "  -4.28708040e-03+8.90510957e-04j  5.08919644e-04-5.19924399e-04j]\n",
      " [-7.76923836e-03+4.17434782e-03j  6.72542617e-02+1.38998336e-01j\n",
      "   2.70893327e-04-2.30367663e-02j  6.80159729e-02+0.00000000e+00j\n",
      "  -1.33821781e-02-8.81507410e-03j  7.45089534e-03-1.46242553e-02j\n",
      "  -6.98193392e-03+3.85760670e-03j -1.64822220e-03-2.82156524e-03j\n",
      "  -2.88138306e-04+1.24536812e-03j -8.88110883e-05-1.64758894e-04j]\n",
      " [-2.94153580e-02+3.24031394e-02j -4.54639621e-02-1.79076862e-02j\n",
      "   1.93818708e-02+4.06815591e-02j -1.33821781e-02+8.81507410e-03j\n",
      "   2.26067420e-02+0.00000000e+00j -5.71264503e-04+5.05366360e-03j\n",
      "   3.25703957e-03-6.42355770e-03j  1.21288207e-03+9.59866175e-04j\n",
      "  -1.26011839e-03-1.62727998e-03j  3.49723546e-04+1.19388521e-04j]\n",
      " [ 5.19956911e-03+1.49825059e-03j -2.06980048e-02+2.87971428e-02j\n",
      "   7.43915119e-03-5.66583611e-03j  7.45089534e-03+1.46242553e-02j\n",
      "  -5.71264503e-04-5.05366360e-03j  7.69721902e-03+0.00000000e+00j\n",
      "  -2.58544742e-03-1.41685970e-03j  7.86975138e-04-1.32527664e-03j\n",
      "  -3.57274010e-04+1.60752516e-04j  4.80665234e-05-6.19293877e-05j]\n",
      " [-1.14939625e-02-2.61678729e-03j -7.95083302e-04-2.08996796e-02j\n",
      "  -8.10255548e-03+1.07166599e-02j -6.98193392e-03-3.85760670e-03j\n",
      "   3.25703957e-03+6.42355770e-03j -2.58544742e-03+1.41685970e-03j\n",
      "   4.13510410e-03+0.00000000e+00j -9.52413169e-05+7.74903571e-04j\n",
      "   4.14849112e-04-9.70580773e-04j  2.78117595e-05+1.99750118e-04j]\n",
      " [ 2.49386116e-04+2.44496838e-03j -6.76701499e-03+1.07429775e-04j\n",
      "   2.87786574e-03+1.09822343e-03j -1.64822220e-03+2.82156524e-03j\n",
      "   1.21288207e-03-9.59866175e-04j  7.86975138e-04+1.32527664e-03j\n",
      "  -9.52413169e-05-7.74903571e-04j  8.51665996e-04+0.00000000e+00j\n",
      "  -1.56195129e-04-2.44029986e-05j  3.80482766e-05-2.24382199e-05j]\n",
      " [-8.82105643e-04-4.33723299e-03j  3.14961818e-03-2.80870324e-03j\n",
      "  -4.28708040e-03-8.90510957e-04j -2.88138306e-04-1.24536812e-03j\n",
      "  -1.26011839e-03+1.62727998e-03j -3.57274010e-04-1.60752516e-04j\n",
      "   4.14849112e-04+9.70580773e-04j -1.56195129e-04+2.44029986e-05j\n",
      "   6.88730492e-04+0.00000000e+00j -8.20038418e-05+6.29419792e-05j]\n",
      " [-3.03498552e-04+6.32544010e-04j -6.57541011e-04+4.49033840e-05j\n",
      "   5.08919644e-04+5.19924399e-04j -8.88110883e-05+1.64758894e-04j\n",
      "   3.49723546e-04-1.19388521e-04j  4.80665234e-05+6.19293877e-05j\n",
      "   2.78117595e-05-1.99750118e-04j  3.80482766e-05+2.24382199e-05j\n",
      "  -8.20038418e-05-6.29419792e-05j  6.76575414e-05+0.00000000e+00j]]\n"
     ]
    },
    {
     "name": "stderr",
     "output_type": "stream",
     "text": [
      "\n"
     ]
    }
   ],
   "source": [
    "# Loading data\n",
    "parent = Path(os.path.dirname(os.getcwd()))\n",
    "date = \"091027\"\n",
    "state = \"cat2\"\n",
    "\n",
    "data_path = parent / \"data\" / \"dataframes\" / date\n",
    "print(data_path)\n",
    "data = pd.read_csv(data_path / (state + '.csv'))\n",
    "# Convert to numpy array\n",
    "x_values = np.array(data)\n",
    "x_values = np.swapaxes(x_values, 0, 1)\n",
    "\n",
    "# Make array from 0 to 165 in steps of 15\n",
    "thetas = np.arange(0, 166, 15)\n",
    "# Convert to radians\n",
    "thetas = np.radians(thetas)\n",
    "theta0 = np.deg2rad(147)\n",
    "x0 = -0.08\n",
    "\n",
    "theta0 = 0\n",
    "x0 = 0\n",
    "\n",
    "N = 10\n",
    "nrho = 10000\n",
    "num_bins = 200\n",
    "eps=0.001\n",
    "\n",
    "rho_est, logL_chain = run_BME(thetas-theta0, \n",
    "              x_values-x0,\n",
    "              num_bins=num_bins,\n",
    "              nrho=nrho,\n",
    "              N=N,\n",
    "              epsilon=eps\n",
    "              )\n",
    "\n",
    "print(rho_est)\n",
    "#np.save(\"rho_est.npy\", rho_est)\n",
    "\n"
   ]
  },
  {
   "cell_type": "code",
   "execution_count": null,
   "id": "ecfb665d",
   "metadata": {},
   "outputs": [],
   "source": []
  },
  {
   "cell_type": "code",
   "execution_count": 4,
   "id": "35d3222a",
   "metadata": {},
   "outputs": [],
   "source": [
    "from WignerDensity import rho_to_Wigner\n",
    "\n",
    "# Define function for nice plotting\n",
    "def PlotSettings(ax, gridlines=False, minimalist=False):\n",
    "    # Minor ticks\n",
    "    ax.xaxis.set_minor_locator(AutoMinorLocator())\n",
    "    ax.yaxis.set_minor_locator(AutoMinorLocator())\n",
    "    # Minimalist style\n",
    "    if minimalist:\n",
    "        # Hide top and right spines (borders)\n",
    "        ax.spines['top'].set_visible(False)\n",
    "        ax.spines['right'].set_visible(False)\n",
    "        # Ticks only on bottom and left\n",
    "        ax.tick_params(which='both', top=False, right=False)\n",
    "    else:\n",
    "        # Tick parameters\n",
    "        ax.tick_params(which='both', direction='in', top=True, right=True)\n",
    "        ax.tick_params(which='major', length=7, width=1.2)\n",
    "        ax.tick_params(which='minor', length=4, width=1)\n",
    "    # Optional grid\n",
    "    if gridlines:\n",
    "        ax.grid(True, which=\"major\", linestyle=\"--\", linewidth=0.6, alpha=0.7)\n",
    "        ax.grid(True, which=\"minor\", linestyle=\":\", linewidth=0.5, alpha=0.4)\n",
    "\n",
    "def plot_Wigner(rho_est):\n",
    "    # Plot Wigner function\n",
    "    xvec = np.linspace(-4, 4, 200)\n",
    "    W = rho_to_Wigner(rho_est, xvec, xvec)\n",
    "    X, Y = np.meshgrid(xvec, xvec)\n",
    "    vmin, vmax = -1/np.pi, 1/np.pi\n",
    "    levels = np.linspace(vmin, vmax, 41)  # force levels across full range\n",
    "\n",
    "    fig, ax = plt.subplots(figsize=(6, 5))\n",
    "    # Filled contours with transparency\n",
    "    contour_filled = ax.contourf(X, Y, W, levels=levels,\n",
    "                                cmap='seismic', alpha=0.8, vmin=vmin, vmax=vmax)\n",
    "    # Colorbar\n",
    "    cbar = fig.colorbar(contour_filled, ax=ax, ticks=[-1/np.pi, 1/np.pi])\n",
    "    cbar.ax.set_yticklabels([r\"$-1/\\pi$\", r\"$1/\\pi$\"])  # custom tick labels if needed\n",
    "    # Move axes to cross at (0,0)\n",
    "    ax.spines['left'].set_position('zero')\n",
    "    ax.spines['bottom'].set_position('zero')\n",
    "    ax.spines['right'].set_color('none')\n",
    "    ax.spines['top'].set_color('none')\n",
    "    # Set x- and y-ticks skipping 0\n",
    "    ax.set_xticks([-3, -2, -1, 1, 2, 3])\n",
    "    ax.set_yticks([-3, -2, -1, 1, 2, 3])\n",
    "    PlotSettings(ax, minimalist=True)\n",
    "    plt.show()"
   ]
  },
  {
   "cell_type": "code",
   "execution_count": 5,
   "id": "ae2c596e",
   "metadata": {},
   "outputs": [
    {
     "data": {
      "image/png": "[encoded data removed]",
      "text/plain": [
       "<Figure size 900x750 with 2 Axes>"
      ]
     },
     "metadata": {},
     "output_type": "display_data"
    }
   ],
   "source": [
    "plot_Wigner(rho_est)"
   ]
  },
  {
   "cell_type": "code",
   "execution_count": 6,
   "id": "45a0f9cf",
   "metadata": {},
   "outputs": [
    {
     "name": "stdout",
     "output_type": "stream",
     "text": [
      "Running iMLE for N=3, bins=60\n",
      "Computing Markov chain...\n",
      "\n"
     ]
    },
    {
     "name": "stderr",
     "output_type": "stream",
     "text": [
      "100%|██████████| 10000/10000 [00:01<00:00, 9291.21it/s]\n"
     ]
    },
    {
     "name": "stdout",
     "output_type": "stream",
     "text": [
      "Running iMLE for N=3, bins=80\n",
      "Computing Markov chain...\n",
      "\n"
     ]
    },
    {
     "name": "stderr",
     "output_type": "stream",
     "text": [
      "100%|██████████| 10000/10000 [00:01<00:00, 8128.25it/s]\n"
     ]
    },
    {
     "name": "stdout",
     "output_type": "stream",
     "text": [
      "Running iMLE for N=3, bins=100\n",
      "Computing Markov chain...\n",
      "\n"
     ]
    },
    {
     "name": "stderr",
     "output_type": "stream",
     "text": [
      "100%|██████████| 10000/10000 [00:01<00:00, 8176.75it/s]\n"
     ]
    },
    {
     "name": "stdout",
     "output_type": "stream",
     "text": [
      "Running iMLE for N=3, bins=120\n",
      "Computing Markov chain...\n",
      "\n"
     ]
    },
    {
     "name": "stderr",
     "output_type": "stream",
     "text": [
      "100%|██████████| 10000/10000 [00:01<00:00, 7640.89it/s]\n"
     ]
    },
    {
     "name": "stdout",
     "output_type": "stream",
     "text": [
      "Running iMLE for N=3, bins=140\n",
      "Computing Markov chain...\n",
      "\n"
     ]
    },
    {
     "name": "stderr",
     "output_type": "stream",
     "text": [
      "100%|██████████| 10000/10000 [00:01<00:00, 7547.45it/s]\n"
     ]
    },
    {
     "name": "stdout",
     "output_type": "stream",
     "text": [
      "Running iMLE for N=3, bins=160\n",
      "Computing Markov chain...\n",
      "\n"
     ]
    },
    {
     "name": "stderr",
     "output_type": "stream",
     "text": [
      "100%|██████████| 10000/10000 [00:01<00:00, 7141.30it/s]\n"
     ]
    },
    {
     "name": "stdout",
     "output_type": "stream",
     "text": [
      "Running iMLE for N=3, bins=180\n",
      "Computing Markov chain...\n",
      "\n"
     ]
    },
    {
     "name": "stderr",
     "output_type": "stream",
     "text": [
      "100%|██████████| 10000/10000 [00:01<00:00, 8142.81it/s]\n"
     ]
    },
    {
     "name": "stdout",
     "output_type": "stream",
     "text": [
      "Running iMLE for N=3, bins=200\n",
      "Computing Markov chain...\n",
      "\n"
     ]
    },
    {
     "name": "stderr",
     "output_type": "stream",
     "text": [
      "100%|██████████| 10000/10000 [00:01<00:00, 7995.29it/s]\n"
     ]
    },
    {
     "name": "stdout",
     "output_type": "stream",
     "text": [
      "Running iMLE for N=4, bins=60\n",
      "Computing Markov chain...\n",
      "\n"
     ]
    },
    {
     "name": "stderr",
     "output_type": "stream",
     "text": [
      "100%|██████████| 10000/10000 [00:01<00:00, 9793.46it/s]\n"
     ]
    },
    {
     "name": "stdout",
     "output_type": "stream",
     "text": [
      "Running iMLE for N=4, bins=80\n",
      "Computing Markov chain...\n",
      "\n"
     ]
    },
    {
     "name": "stderr",
     "output_type": "stream",
     "text": [
      "100%|██████████| 10000/10000 [00:01<00:00, 9125.01it/s]\n"
     ]
    },
    {
     "name": "stdout",
     "output_type": "stream",
     "text": [
      "Running iMLE for N=4, bins=100\n",
      "Computing Markov chain...\n",
      "\n"
     ]
    },
    {
     "name": "stderr",
     "output_type": "stream",
     "text": [
      "100%|██████████| 10000/10000 [00:01<00:00, 8538.78it/s]\n"
     ]
    },
    {
     "name": "stdout",
     "output_type": "stream",
     "text": [
      "Running iMLE for N=4, bins=120\n",
      "Computing Markov chain...\n",
      "\n"
     ]
    },
    {
     "name": "stderr",
     "output_type": "stream",
     "text": [
      "100%|██████████| 10000/10000 [00:01<00:00, 8188.02it/s]\n"
     ]
    },
    {
     "name": "stdout",
     "output_type": "stream",
     "text": [
      "Running iMLE for N=4, bins=140\n",
      "Computing Markov chain...\n",
      "\n"
     ]
    },
    {
     "name": "stderr",
     "output_type": "stream",
     "text": [
      "100%|██████████| 10000/10000 [00:01<00:00, 8197.70it/s]\n"
     ]
    },
    {
     "name": "stdout",
     "output_type": "stream",
     "text": [
      "Running iMLE for N=4, bins=160\n",
      "Computing Markov chain...\n",
      "\n"
     ]
    },
    {
     "name": "stderr",
     "output_type": "stream",
     "text": [
      "100%|██████████| 10000/10000 [00:01<00:00, 7542.98it/s]\n"
     ]
    },
    {
     "name": "stdout",
     "output_type": "stream",
     "text": [
      "Running iMLE for N=4, bins=180\n",
      "Computing Markov chain...\n",
      "\n"
     ]
    },
    {
     "name": "stderr",
     "output_type": "stream",
     "text": [
      "100%|██████████| 10000/10000 [00:01<00:00, 7448.73it/s]\n"
     ]
    },
    {
     "name": "stdout",
     "output_type": "stream",
     "text": [
      "Running iMLE for N=4, bins=200\n",
      "Computing Markov chain...\n",
      "\n"
     ]
    },
    {
     "name": "stderr",
     "output_type": "stream",
     "text": [
      "100%|██████████| 10000/10000 [00:01<00:00, 6860.12it/s]\n"
     ]
    },
    {
     "name": "stdout",
     "output_type": "stream",
     "text": [
      "Running iMLE for N=5, bins=60\n",
      "Computing Markov chain...\n",
      "\n"
     ]
    },
    {
     "name": "stderr",
     "output_type": "stream",
     "text": [
      "100%|██████████| 10000/10000 [00:01<00:00, 9754.74it/s]\n"
     ]
    },
    {
     "name": "stdout",
     "output_type": "stream",
     "text": [
      "Running iMLE for N=5, bins=80\n",
      "Computing Markov chain...\n",
      "\n"
     ]
    },
    {
     "name": "stderr",
     "output_type": "stream",
     "text": [
      "100%|██████████| 10000/10000 [00:01<00:00, 8440.06it/s]\n"
     ]
    },
    {
     "name": "stdout",
     "output_type": "stream",
     "text": [
      "Running iMLE for N=5, bins=100\n",
      "Computing Markov chain...\n",
      "\n"
     ]
    },
    {
     "name": "stderr",
     "output_type": "stream",
     "text": [
      "100%|██████████| 10000/10000 [00:01<00:00, 8227.91it/s]\n"
     ]
    },
    {
     "name": "stdout",
     "output_type": "stream",
     "text": [
      "Running iMLE for N=5, bins=120\n",
      "Computing Markov chain...\n",
      "\n"
     ]
    },
    {
     "name": "stderr",
     "output_type": "stream",
     "text": [
      "100%|██████████| 10000/10000 [00:01<00:00, 7981.35it/s]\n"
     ]
    },
    {
     "name": "stdout",
     "output_type": "stream",
     "text": [
      "Running iMLE for N=5, bins=140\n",
      "Computing Markov chain...\n",
      "\n"
     ]
    },
    {
     "name": "stderr",
     "output_type": "stream",
     "text": [
      "100%|██████████| 10000/10000 [00:01<00:00, 6935.73it/s]\n"
     ]
    },
    {
     "name": "stdout",
     "output_type": "stream",
     "text": [
      "Running iMLE for N=5, bins=160\n",
      "Computing Markov chain...\n",
      "\n"
     ]
    },
    {
     "name": "stderr",
     "output_type": "stream",
     "text": [
      "100%|██████████| 10000/10000 [00:01<00:00, 6643.71it/s]\n"
     ]
    },
    {
     "name": "stdout",
     "output_type": "stream",
     "text": [
      "Running iMLE for N=5, bins=180\n",
      "Computing Markov chain...\n",
      "\n"
     ]
    },
    {
     "name": "stderr",
     "output_type": "stream",
     "text": [
      "100%|██████████| 10000/10000 [00:01<00:00, 6493.14it/s]\n"
     ]
    },
    {
     "name": "stdout",
     "output_type": "stream",
     "text": [
      "Running iMLE for N=5, bins=200\n",
      "Computing Markov chain...\n",
      "\n"
     ]
    },
    {
     "name": "stderr",
     "output_type": "stream",
     "text": [
      "100%|██████████| 10000/10000 [00:01<00:00, 6012.38it/s]\n"
     ]
    },
    {
     "name": "stdout",
     "output_type": "stream",
     "text": [
      "Running iMLE for N=6, bins=60\n",
      "Computing Markov chain...\n",
      "\n"
     ]
    },
    {
     "name": "stderr",
     "output_type": "stream",
     "text": [
      "100%|██████████| 10000/10000 [00:01<00:00, 9685.35it/s]\n"
     ]
    },
    {
     "name": "stdout",
     "output_type": "stream",
     "text": [
      "Running iMLE for N=6, bins=80\n",
      "Computing Markov chain...\n",
      "\n"
     ]
    },
    {
     "name": "stderr",
     "output_type": "stream",
     "text": [
      "100%|██████████| 10000/10000 [00:01<00:00, 8498.92it/s]\n"
     ]
    },
    {
     "name": "stdout",
     "output_type": "stream",
     "text": [
      "Running iMLE for N=6, bins=100\n",
      "Computing Markov chain...\n",
      "\n"
     ]
    },
    {
     "name": "stderr",
     "output_type": "stream",
     "text": [
      "100%|██████████| 10000/10000 [00:01<00:00, 8074.60it/s]\n"
     ]
    },
    {
     "name": "stdout",
     "output_type": "stream",
     "text": [
      "Running iMLE for N=6, bins=120\n",
      "Computing Markov chain...\n",
      "\n"
     ]
    },
    {
     "name": "stderr",
     "output_type": "stream",
     "text": [
      "100%|██████████| 10000/10000 [00:01<00:00, 7214.24it/s]\n"
     ]
    },
    {
     "name": "stdout",
     "output_type": "stream",
     "text": [
      "Running iMLE for N=6, bins=140\n",
      "Computing Markov chain...\n",
      "\n"
     ]
    },
    {
     "name": "stderr",
     "output_type": "stream",
     "text": [
      "100%|██████████| 10000/10000 [00:01<00:00, 6805.94it/s]\n"
     ]
    },
    {
     "name": "stdout",
     "output_type": "stream",
     "text": [
      "Running iMLE for N=6, bins=160\n",
      "Computing Markov chain...\n",
      "\n"
     ]
    },
    {
     "name": "stderr",
     "output_type": "stream",
     "text": [
      "100%|██████████| 10000/10000 [00:01<00:00, 6237.73it/s]\n"
     ]
    },
    {
     "name": "stdout",
     "output_type": "stream",
     "text": [
      "Running iMLE for N=6, bins=180\n",
      "Computing Markov chain...\n",
      "\n"
     ]
    },
    {
     "name": "stderr",
     "output_type": "stream",
     "text": [
      "100%|██████████| 10000/10000 [00:01<00:00, 5457.20it/s]\n"
     ]
    },
    {
     "name": "stdout",
     "output_type": "stream",
     "text": [
      "Running iMLE for N=6, bins=200\n",
      "Computing Markov chain...\n",
      "\n"
     ]
    },
    {
     "name": "stderr",
     "output_type": "stream",
     "text": [
      "100%|██████████| 10000/10000 [00:01<00:00, 5349.42it/s]\n"
     ]
    },
    {
     "name": "stdout",
     "output_type": "stream",
     "text": [
      "Running iMLE for N=7, bins=60\n",
      "Computing Markov chain...\n",
      "\n"
     ]
    },
    {
     "name": "stderr",
     "output_type": "stream",
     "text": [
      "100%|██████████| 10000/10000 [00:01<00:00, 8893.85it/s]\n"
     ]
    },
    {
     "name": "stdout",
     "output_type": "stream",
     "text": [
      "Running iMLE for N=7, bins=80\n",
      "Computing Markov chain...\n",
      "\n"
     ]
    },
    {
     "name": "stderr",
     "output_type": "stream",
     "text": [
      "100%|██████████| 10000/10000 [00:01<00:00, 7675.98it/s]\n"
     ]
    },
    {
     "name": "stdout",
     "output_type": "stream",
     "text": [
      "Running iMLE for N=7, bins=100\n",
      "Computing Markov chain...\n",
      "\n"
     ]
    },
    {
     "name": "stderr",
     "output_type": "stream",
     "text": [
      "100%|██████████| 10000/10000 [00:01<00:00, 7226.02it/s]\n"
     ]
    },
    {
     "name": "stdout",
     "output_type": "stream",
     "text": [
      "Running iMLE for N=7, bins=120\n",
      "Computing Markov chain...\n",
      "\n"
     ]
    },
    {
     "name": "stderr",
     "output_type": "stream",
     "text": [
      "100%|██████████| 10000/10000 [00:01<00:00, 6416.55it/s]\n"
     ]
    },
    {
     "name": "stdout",
     "output_type": "stream",
     "text": [
      "Running iMLE for N=7, bins=140\n",
      "Computing Markov chain...\n",
      "\n"
     ]
    },
    {
     "name": "stderr",
     "output_type": "stream",
     "text": [
      "100%|██████████| 10000/10000 [00:01<00:00, 5502.72it/s]\n"
     ]
    },
    {
     "name": "stdout",
     "output_type": "stream",
     "text": [
      "Running iMLE for N=7, bins=160\n",
      "Computing Markov chain...\n",
      "\n"
     ]
    },
    {
     "name": "stderr",
     "output_type": "stream",
     "text": [
      "100%|██████████| 10000/10000 [00:01<00:00, 5173.89it/s]\n"
     ]
    },
    {
     "name": "stdout",
     "output_type": "stream",
     "text": [
      "Running iMLE for N=7, bins=180\n",
      "Computing Markov chain...\n",
      "\n"
     ]
    },
    {
     "name": "stderr",
     "output_type": "stream",
     "text": [
      "100%|██████████| 10000/10000 [00:02<00:00, 4903.89it/s]\n"
     ]
    },
    {
     "name": "stdout",
     "output_type": "stream",
     "text": [
      "Running iMLE for N=7, bins=200\n",
      "Computing Markov chain...\n",
      "\n"
     ]
    },
    {
     "name": "stderr",
     "output_type": "stream",
     "text": [
      "100%|██████████| 10000/10000 [00:02<00:00, 4514.12it/s]\n"
     ]
    },
    {
     "name": "stdout",
     "output_type": "stream",
     "text": [
      "Running iMLE for N=8, bins=60\n",
      "Computing Markov chain...\n",
      "\n"
     ]
    },
    {
     "name": "stderr",
     "output_type": "stream",
     "text": [
      "100%|██████████| 10000/10000 [00:01<00:00, 6944.96it/s]\n"
     ]
    },
    {
     "name": "stdout",
     "output_type": "stream",
     "text": [
      "Running iMLE for N=8, bins=80\n",
      "Computing Markov chain...\n",
      "\n"
     ]
    },
    {
     "name": "stderr",
     "output_type": "stream",
     "text": [
      "100%|██████████| 10000/10000 [00:01<00:00, 6780.59it/s]\n"
     ]
    },
    {
     "name": "stdout",
     "output_type": "stream",
     "text": [
      "Running iMLE for N=8, bins=100\n",
      "Computing Markov chain...\n",
      "\n"
     ]
    },
    {
     "name": "stderr",
     "output_type": "stream",
     "text": [
      "100%|██████████| 10000/10000 [00:01<00:00, 6259.75it/s]\n"
     ]
    },
    {
     "name": "stdout",
     "output_type": "stream",
     "text": [
      "Running iMLE for N=8, bins=120\n",
      "Computing Markov chain...\n",
      "\n"
     ]
    },
    {
     "name": "stderr",
     "output_type": "stream",
     "text": [
      "100%|██████████| 10000/10000 [00:01<00:00, 6057.10it/s]\n"
     ]
    },
    {
     "name": "stdout",
     "output_type": "stream",
     "text": [
      "Running iMLE for N=8, bins=140\n",
      "Computing Markov chain...\n",
      "\n"
     ]
    },
    {
     "name": "stderr",
     "output_type": "stream",
     "text": [
      "100%|██████████| 10000/10000 [00:01<00:00, 5309.42it/s]\n"
     ]
    },
    {
     "name": "stdout",
     "output_type": "stream",
     "text": [
      "Running iMLE for N=8, bins=160\n",
      "Computing Markov chain...\n",
      "\n"
     ]
    },
    {
     "name": "stderr",
     "output_type": "stream",
     "text": [
      "100%|██████████| 10000/10000 [00:01<00:00, 5528.74it/s]\n"
     ]
    },
    {
     "name": "stdout",
     "output_type": "stream",
     "text": [
      "Running iMLE for N=8, bins=180\n",
      "Computing Markov chain...\n",
      "\n"
     ]
    },
    {
     "name": "stderr",
     "output_type": "stream",
     "text": [
      "100%|██████████| 10000/10000 [00:02<00:00, 4849.43it/s]\n"
     ]
    },
    {
     "name": "stdout",
     "output_type": "stream",
     "text": [
      "Running iMLE for N=8, bins=200\n",
      "Computing Markov chain...\n",
      "\n"
     ]
    },
    {
     "name": "stderr",
     "output_type": "stream",
     "text": [
      "100%|██████████| 10000/10000 [00:02<00:00, 4944.06it/s]\n"
     ]
    },
    {
     "name": "stdout",
     "output_type": "stream",
     "text": [
      "Running iMLE for N=9, bins=60\n",
      "Computing Markov chain...\n",
      "\n"
     ]
    },
    {
     "name": "stderr",
     "output_type": "stream",
     "text": [
      "100%|██████████| 10000/10000 [00:01<00:00, 6625.77it/s]\n"
     ]
    },
    {
     "name": "stdout",
     "output_type": "stream",
     "text": [
      "Running iMLE for N=9, bins=80\n",
      "Computing Markov chain...\n",
      "\n"
     ]
    },
    {
     "name": "stderr",
     "output_type": "stream",
     "text": [
      "100%|██████████| 10000/10000 [00:01<00:00, 6237.45it/s]\n"
     ]
    },
    {
     "name": "stdout",
     "output_type": "stream",
     "text": [
      "Running iMLE for N=9, bins=100\n",
      "Computing Markov chain...\n",
      "\n"
     ]
    },
    {
     "name": "stderr",
     "output_type": "stream",
     "text": [
      "100%|██████████| 10000/10000 [00:01<00:00, 5520.04it/s]\n"
     ]
    },
    {
     "name": "stdout",
     "output_type": "stream",
     "text": [
      "Running iMLE for N=9, bins=120\n",
      "Computing Markov chain...\n",
      "\n"
     ]
    },
    {
     "name": "stderr",
     "output_type": "stream",
     "text": [
      "100%|██████████| 10000/10000 [00:01<00:00, 5280.14it/s]\n"
     ]
    },
    {
     "name": "stdout",
     "output_type": "stream",
     "text": [
      "Running iMLE for N=9, bins=140\n",
      "Computing Markov chain...\n",
      "\n"
     ]
    },
    {
     "name": "stderr",
     "output_type": "stream",
     "text": [
      "100%|██████████| 10000/10000 [00:02<00:00, 4813.83it/s]\n"
     ]
    },
    {
     "name": "stdout",
     "output_type": "stream",
     "text": [
      "Running iMLE for N=9, bins=160\n",
      "Computing Markov chain...\n",
      "\n"
     ]
    },
    {
     "name": "stderr",
     "output_type": "stream",
     "text": [
      "100%|██████████| 10000/10000 [00:02<00:00, 4537.22it/s]\n"
     ]
    },
    {
     "name": "stdout",
     "output_type": "stream",
     "text": [
      "Running iMLE for N=9, bins=180\n",
      "Computing Markov chain...\n",
      "\n"
     ]
    },
    {
     "name": "stderr",
     "output_type": "stream",
     "text": [
      "100%|██████████| 10000/10000 [00:02<00:00, 3958.92it/s]\n"
     ]
    },
    {
     "name": "stdout",
     "output_type": "stream",
     "text": [
      "Running iMLE for N=9, bins=200\n",
      "Computing Markov chain...\n",
      "\n"
     ]
    },
    {
     "name": "stderr",
     "output_type": "stream",
     "text": [
      "100%|██████████| 10000/10000 [00:02<00:00, 3569.62it/s]\n"
     ]
    },
    {
     "name": "stdout",
     "output_type": "stream",
     "text": [
      "Running iMLE for N=10, bins=60\n",
      "Computing Markov chain...\n",
      "\n"
     ]
    },
    {
     "name": "stderr",
     "output_type": "stream",
     "text": [
      "100%|██████████| 10000/10000 [00:01<00:00, 6567.84it/s]\n"
     ]
    },
    {
     "name": "stdout",
     "output_type": "stream",
     "text": [
      "Running iMLE for N=10, bins=80\n",
      "Computing Markov chain...\n",
      "\n"
     ]
    },
    {
     "name": "stderr",
     "output_type": "stream",
     "text": [
      "100%|██████████| 10000/10000 [00:01<00:00, 6376.51it/s]\n"
     ]
    },
    {
     "name": "stdout",
     "output_type": "stream",
     "text": [
      "Running iMLE for N=10, bins=100\n",
      "Computing Markov chain...\n",
      "\n"
     ]
    },
    {
     "name": "stderr",
     "output_type": "stream",
     "text": [
      "100%|██████████| 10000/10000 [00:01<00:00, 5595.56it/s]\n"
     ]
    },
    {
     "name": "stdout",
     "output_type": "stream",
     "text": [
      "Running iMLE for N=10, bins=120\n",
      "Computing Markov chain...\n",
      "\n"
     ]
    },
    {
     "name": "stderr",
     "output_type": "stream",
     "text": [
      "100%|██████████| 10000/10000 [00:01<00:00, 5592.33it/s]\n"
     ]
    },
    {
     "name": "stdout",
     "output_type": "stream",
     "text": [
      "Running iMLE for N=10, bins=140\n",
      "Computing Markov chain...\n",
      "\n"
     ]
    },
    {
     "name": "stderr",
     "output_type": "stream",
     "text": [
      "100%|██████████| 10000/10000 [00:02<00:00, 4851.42it/s]\n"
     ]
    },
    {
     "name": "stdout",
     "output_type": "stream",
     "text": [
      "Running iMLE for N=10, bins=160\n",
      "Computing Markov chain...\n",
      "\n"
     ]
    },
    {
     "name": "stderr",
     "output_type": "stream",
     "text": [
      "100%|██████████| 10000/10000 [00:02<00:00, 4406.74it/s]\n"
     ]
    },
    {
     "name": "stdout",
     "output_type": "stream",
     "text": [
      "Running iMLE for N=10, bins=180\n",
      "Computing Markov chain...\n",
      "\n"
     ]
    },
    {
     "name": "stderr",
     "output_type": "stream",
     "text": [
      "100%|██████████| 10000/10000 [00:02<00:00, 3722.08it/s]\n"
     ]
    },
    {
     "name": "stdout",
     "output_type": "stream",
     "text": [
      "Running iMLE for N=10, bins=200\n",
      "Computing Markov chain...\n",
      "\n"
     ]
    },
    {
     "name": "stderr",
     "output_type": "stream",
     "text": [
      "100%|██████████| 10000/10000 [00:02<00:00, 4377.14it/s]\n"
     ]
    }
   ],
   "source": [
    "N_values = [i for i in range(3, 11)]\n",
    "nbin_values = [i*20 for i in range(3, 11)]\n",
    "\n",
    "delta_ll, runtime_grid = run_BME_benchmark(\n",
    "    thetas, x_values, N_values, nbin_values,[10000],\n",
    "\n",
    ")"
   ]
  },
  {
   "cell_type": "code",
   "execution_count": 6,
   "id": "9a1819cc",
   "metadata": {},
   "outputs": [],
   "source": [
    "def plot_results(delta_ll, runtime_grid, N_values, nbin_values):\n",
    "    fig, axs = plt.subplots(1, 2, figsize=(12, 5), constrained_layout=True)\n",
    "\n",
    "    # First heatmap: Δ log-likelihood\n",
    "    c0 = axs[0].pcolormesh(nbin_values, N_values, delta_ll, shading=\"auto\", cmap=\"viridis\")\n",
    "    axs[0].set_title(\"Δ log-likelihood per sample\")\n",
    "    axs[0].set_xlabel(\"Number of bins\")\n",
    "    axs[0].set_ylabel(\"Fock cutoff N\")\n",
    "    axs[0].set_xticks(nbin_values)\n",
    "    axs[0].set_yticks(N_values)\n",
    "    fig.colorbar(c0, ax=axs[0])\n",
    "\n",
    "    # Second heatmap: Runtime\n",
    "    c1 = axs[1].pcolormesh(nbin_values, N_values, runtime_grid, shading=\"auto\", cmap=\"magma\")\n",
    "    axs[1].set_title(\"Runtime (s)\")\n",
    "    axs[1].set_xlabel(\"Number of bins\")\n",
    "    axs[1].set_ylabel(\"Fock cutoff N\")\n",
    "    axs[1].set_xticks(nbin_values)\n",
    "    axs[1].set_yticks(N_values)\n",
    "    fig.colorbar(c1, ax=axs[1])\n",
    "\n",
    "    plt.show()"
   ]
  },
  {
   "cell_type": "code",
   "execution_count": 8,
   "id": "ca8f3f34",
   "metadata": {},
   "outputs": [
    {
     "data": {
      "image/png": "[encoded data removed]",
      "text/plain": [
       "<Figure size 1800x750 with 4 Axes>"
      ]
     },
     "metadata": {},
     "output_type": "display_data"
    }
   ],
   "source": [
    "plot_results(delta_ll, runtime_grid, N_values, nbin_values)"
   ]
  },
  {
   "cell_type": "code",
   "execution_count": 22,
   "id": "f30ec6a3",
   "metadata": {},
   "outputs": [
    {
     "name": "stdout",
     "output_type": "stream",
     "text": [
      "Running BME for nrho=500\n",
      "Computing Markov chain...\n",
      "\n"
     ]
    },
    {
     "name": "stderr",
     "output_type": "stream",
     "text": [
      "100%|██████████| 500/500 [00:00<00:00, 4731.40it/s]\n"
     ]
    },
    {
     "name": "stdout",
     "output_type": "stream",
     "text": [
      "Running BME for nrho=1000\n",
      "Computing Markov chain...\n",
      "\n"
     ]
    },
    {
     "name": "stderr",
     "output_type": "stream",
     "text": [
      "100%|██████████| 1000/1000 [00:00<00:00, 5260.30it/s]\n"
     ]
    },
    {
     "name": "stdout",
     "output_type": "stream",
     "text": [
      "Running BME for nrho=2000\n",
      "Computing Markov chain...\n",
      "\n"
     ]
    },
    {
     "name": "stderr",
     "output_type": "stream",
     "text": [
      "100%|██████████| 2000/2000 [00:00<00:00, 5020.56it/s]\n"
     ]
    },
    {
     "name": "stdout",
     "output_type": "stream",
     "text": [
      "Running BME for nrho=4000\n",
      "Computing Markov chain...\n",
      "\n"
     ]
    },
    {
     "name": "stderr",
     "output_type": "stream",
     "text": [
      "100%|██████████| 4000/4000 [00:00<00:00, 5507.08it/s]\n"
     ]
    },
    {
     "name": "stdout",
     "output_type": "stream",
     "text": [
      "Running BME for nrho=6000\n",
      "Computing Markov chain...\n",
      "\n"
     ]
    },
    {
     "name": "stderr",
     "output_type": "stream",
     "text": [
      "100%|██████████| 6000/6000 [00:01<00:00, 5144.14it/s]\n"
     ]
    },
    {
     "name": "stdout",
     "output_type": "stream",
     "text": [
      "Running BME for nrho=8000\n",
      "Computing Markov chain...\n",
      "\n"
     ]
    },
    {
     "name": "stderr",
     "output_type": "stream",
     "text": [
      "100%|██████████| 8000/8000 [00:01<00:00, 5390.99it/s]\n"
     ]
    },
    {
     "name": "stdout",
     "output_type": "stream",
     "text": [
      "Running BME for nrho=10000\n",
      "Computing Markov chain...\n",
      "\n"
     ]
    },
    {
     "name": "stderr",
     "output_type": "stream",
     "text": [
      "100%|██████████| 10000/10000 [00:01<00:00, 5380.06it/s]\n"
     ]
    },
    {
     "name": "stdout",
     "output_type": "stream",
     "text": [
      "Running BME for nrho=12000\n",
      "Computing Markov chain...\n",
      "\n"
     ]
    },
    {
     "name": "stderr",
     "output_type": "stream",
     "text": [
      "100%|██████████| 12000/12000 [00:02<00:00, 5445.56it/s]\n"
     ]
    },
    {
     "name": "stdout",
     "output_type": "stream",
     "text": [
      "Running BME for nrho=14000\n",
      "Computing Markov chain...\n",
      "\n"
     ]
    },
    {
     "name": "stderr",
     "output_type": "stream",
     "text": [
      "100%|██████████| 14000/14000 [00:02<00:00, 5354.08it/s]\n"
     ]
    },
    {
     "name": "stdout",
     "output_type": "stream",
     "text": [
      "Running BME for nrho=16000\n",
      "Computing Markov chain...\n",
      "\n"
     ]
    },
    {
     "name": "stderr",
     "output_type": "stream",
     "text": [
      "100%|██████████| 16000/16000 [00:02<00:00, 5498.85it/s]\n"
     ]
    },
    {
     "name": "stdout",
     "output_type": "stream",
     "text": [
      "Running BME for nrho=18000\n",
      "Computing Markov chain...\n",
      "\n"
     ]
    },
    {
     "name": "stderr",
     "output_type": "stream",
     "text": [
      "100%|██████████| 18000/18000 [00:03<00:00, 5569.10it/s]\n"
     ]
    },
    {
     "name": "stdout",
     "output_type": "stream",
     "text": [
      "Running BME for nrho=20000\n",
      "Computing Markov chain...\n",
      "\n"
     ]
    },
    {
     "name": "stderr",
     "output_type": "stream",
     "text": [
      "100%|██████████| 20000/20000 [00:03<00:00, 5490.36it/s]\n"
     ]
    }
   ],
   "source": [
    "N_values = [8]\n",
    "nbin_values = [160]\n",
    "\n",
    "nrhos = [500, 1000]+[2000 * i for i in range(1, 11)]  # 1000, 2000, ..., 10000\n",
    "\n",
    "delta_ll, runtime_grid = run_BME_benchmark(\n",
    "    thetas, x_values, N_values, nbin_values,nrhos,\n",
    "\n",
    ")"
   ]
  },
  {
   "cell_type": "code",
   "execution_count": 23,
   "id": "cfac3174",
   "metadata": {},
   "outputs": [],
   "source": [
    "def plot_results_rho(delta_ll, runtime_grid, nrhos):\n",
    "    fig, axs = plt.subplots(1, 2, figsize=(12, 5), constrained_layout=True)\n",
    "\n",
    "    # Flatten arrays to ensure 1D\n",
    "    delta_ll = np.ravel(delta_ll)\n",
    "    runtime_grid = np.ravel(runtime_grid)\n",
    "\n",
    "    # Δ log-likelihood per sample\n",
    "    axs[0].plot(nrhos, delta_ll, marker='o')\n",
    "    axs[0].set_title(\"Δ log-likelihood per sample\")\n",
    "    axs[0].set_xlabel(\"Number of states (nrhos)\")\n",
    "    axs[0].set_ylabel(\"Δ log-likelihood\")\n",
    "\n",
    "    # Runtime\n",
    "    axs[1].plot(nrhos, runtime_grid, marker='o', color='orange')\n",
    "    axs[1].set_title(\"Runtime (s)\")\n",
    "    axs[1].set_xlabel(\"Number of states (nrhos)\")\n",
    "    axs[1].set_ylabel(\"Runtime (s)\")\n",
    "\n",
    "    plt.show()\n"
   ]
  },
  {
   "cell_type": "code",
   "execution_count": 24,
   "id": "83751040",
   "metadata": {},
   "outputs": [
    {
     "data": {
      "image/png": "[encoded data removed]",
      "text/plain": [
       "<Figure size 1800x750 with 2 Axes>"
      ]
     },
     "metadata": {},
     "output_type": "display_data"
    }
   ],
   "source": [
    "plot_results_rho(delta_ll, runtime_grid, nrhos)"
   ]
  },
  {
   "cell_type": "code",
   "execution_count": null,
   "id": "39dba5ed",
   "metadata": {},
   "outputs": [],
   "source": []
  }
 ],
 "metadata": {
  "kernelspec": {
   "display_name": "sciqis (3.13.5)",
   "language": "python",
   "name": "python3"
  },
  "language_info": {
   "codemirror_mode": {
    "name": "ipython",
    "version": 3
   },
   "file_extension": ".py",
   "mimetype": "text/x-python",
   "name": "python",
   "nbconvert_exporter": "python",
   "pygments_lexer": "ipython3",
   "version": "3.13.5"
  }
 },
 "nbformat": 4,
 "nbformat_minor": 5
}
