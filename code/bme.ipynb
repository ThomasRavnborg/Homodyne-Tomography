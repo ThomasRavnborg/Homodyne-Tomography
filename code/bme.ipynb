{
 "cells": [
  {
   "cell_type": "markdown",
   "id": "b6412578",
   "metadata": {},
   "source": [
    "Bayesian Mean Estimate "
   ]
  },
  {
   "cell_type": "code",
   "execution_count": 1,
   "id": "4b5503da",
   "metadata": {},
   "outputs": [],
   "source": [
    "# import libraries\n",
    "import os\n",
    "import numpy as np\n",
    "import pandas as pd\n",
    "import matplotlib.pyplot as plt\n",
    "from matplotlib.ticker import (MultipleLocator, AutoMinorLocator)\n",
    "\n",
    "from pathlib import Path\n",
    "\n",
    "from BME import run_BME, run_BME_benchmark\n",
    "\n",
    "\n",
    "# Global plot style settings\n",
    "plt.rcParams.update({\n",
    "    \"font.family\": \"serif\",\n",
    "    \"font.serif\": [\"DejaVu Serif\"],\n",
    "    \"mathtext.fontset\": \"cm\",            # Use Computer Modern for math\n",
    "    \"font.size\": 14,                     # Base font size\n",
    "    \"axes.labelsize\": 16,                # Axis label font size\n",
    "    \"axes.titlesize\": 16,                # Title font size\n",
    "    \"legend.fontsize\": 13,               # Legend font size\n",
    "    \"xtick.labelsize\": 13,               # X tick label size\n",
    "    \"ytick.labelsize\": 13,               # Y tick label size\n",
    "    \"axes.linewidth\": 1.2,               # Thicker axis lines\n",
    "    \"xtick.direction\": \"in\",             # x-yick direction\n",
    "    \"ytick.direction\": \"in\",             # y-tick direction\n",
    "    \"text.usetex\": False,                # Enable LaTeX if needed\n",
    "    \"figure.dpi\": 150,                   # Good resolution for screens\n",
    "    \"savefig.dpi\": 300                   # High resolution for saving\n",
    "})"
   ]
  },
  {
   "cell_type": "code",
   "execution_count": 2,
   "id": "46a8d824",
   "metadata": {},
   "outputs": [],
   "source": [
    "# Define function for nice plotting\n",
    "def PlotSettings(ax, gridlines=False, minimalist=False):\n",
    "    # Minor ticks\n",
    "    ax.xaxis.set_minor_locator(AutoMinorLocator())\n",
    "    ax.yaxis.set_minor_locator(AutoMinorLocator())\n",
    "    # Minimalist style\n",
    "    if minimalist:\n",
    "        # Hide top and right spines (borders)\n",
    "        ax.spines['top'].set_visible(False)\n",
    "        ax.spines['right'].set_visible(False)\n",
    "        # Ticks only on bottom and left\n",
    "        ax.tick_params(which='both', top=False, right=False)\n",
    "    else:\n",
    "        # Tick parameters\n",
    "        ax.tick_params(which='both', direction='in', top=True, right=True)\n",
    "        ax.tick_params(which='major', length=7, width=1.2)\n",
    "        ax.tick_params(which='minor', length=4, width=1)\n",
    "    # Optional grid\n",
    "    if gridlines:\n",
    "        ax.grid(True, which=\"major\", linestyle=\"--\", linewidth=0.6, alpha=0.7)\n",
    "        ax.grid(True, which=\"minor\", linestyle=\":\", linewidth=0.5, alpha=0.4)"
   ]
  },
  {
   "cell_type": "code",
   "execution_count": 3,
   "id": "a38504fa",
   "metadata": {},
   "outputs": [
    {
     "name": "stdout",
     "output_type": "stream",
     "text": [
      "/Users/jansc/Documents/QIS/Spring2025/SCIQIS/Homodyne-Tomography/data/dataframes/091027\n",
      "Computing Markov chain...\n",
      "\n",
      "[[ 4.02457667e-01+0.00000000e+00j -2.16107267e-01+1.87886612e-01j\n",
      "   8.35697842e-02-2.17069483e-02j -6.25446610e-02+7.73211575e-02j\n",
      "   1.74862509e-02-8.17191815e-03j -1.19613278e-02+1.67447308e-02j\n",
      "   5.11454557e-03-1.00793521e-02j -5.88821487e-03+5.15734748e-04j\n",
      "  -1.81045962e-04-1.96541657e-03j -3.33004652e-03-1.24670622e-03j]\n",
      " [-2.16107267e-01-1.87886612e-01j  4.31991703e-01+0.00000000e+00j\n",
      "  -1.64766653e-02+4.24200530e-02j  1.40589523e-01+1.64622159e-02j\n",
      "  -5.08285650e-03+2.77522393e-02j  4.14359568e-02+6.78860966e-03j\n",
      "  -5.14388043e-03+1.30368557e-02j  1.07211690e-02+7.09971449e-03j\n",
      "  -1.01575126e-03+2.48340476e-03j  3.85902042e-03+5.15756050e-03j]\n",
      " [ 8.35697842e-02+2.17069483e-02j -1.64766653e-02-4.24200530e-02j\n",
      "   7.07389868e-02+0.00000000e+00j  6.22823192e-03-8.54278495e-04j\n",
      "   1.99924380e-02+3.41832201e-03j  6.19548210e-03-3.56145634e-03j\n",
      "   6.40948016e-03-2.64634764e-04j  2.07445272e-03-2.64319403e-03j\n",
      "   4.58532782e-04+3.72435471e-04j  1.48900230e-03-1.01276792e-03j]\n",
      " [-6.25446610e-02-7.73211575e-02j  1.40589523e-01-1.64622159e-02j\n",
      "   6.22823192e-03+8.54278495e-04j  6.85651559e-02+0.00000000e+00j\n",
      "   1.39274165e-03+9.79722347e-03j  2.06072840e-02+1.51077001e-03j\n",
      "  -1.59554161e-05+5.72150022e-03j  5.06141416e-03+2.32700205e-03j\n",
      "  -1.47407418e-04+1.23123607e-03j  2.24810010e-03+1.83489052e-03j]\n",
      " [ 1.74862509e-02+8.17191815e-03j -5.08285650e-03-2.77522393e-02j\n",
      "   1.99924380e-02-3.41832201e-03j  1.39274165e-03-9.79722347e-03j\n",
      "   1.21362828e-02+0.00000000e+00j  2.58048073e-03-4.43250109e-03j\n",
      "   3.32981666e-03-2.42699269e-04j  9.59567141e-04-1.44240953e-03j\n",
      "   4.97568313e-04-9.36392453e-05j  6.24104119e-04-1.06671436e-03j]\n",
      " [-1.19613278e-02-1.67447308e-02j  4.14359568e-02-6.78860966e-03j\n",
      "   6.19548210e-03+3.56145634e-03j  2.06072840e-02-1.51077001e-03j\n",
      "   2.58048073e-03+4.43250109e-03j  9.64770707e-03+0.00000000e+00j\n",
      "   8.89836991e-04+2.04930343e-03j  1.90055212e-03+4.84644060e-04j\n",
      "   1.74233730e-04+4.06312290e-04j  1.03418621e-03+4.33565992e-04j]\n",
      " [ 5.11454557e-03+1.00793521e-02j -5.14388043e-03-1.30368557e-02j\n",
      "   6.40948016e-03+2.64634764e-04j -1.59554161e-05-5.72150022e-03j\n",
      "   3.32981666e-03+2.42699269e-04j  8.89836991e-04-2.04930343e-03j\n",
      "   2.31639257e-03+0.00000000e+00j  5.05566197e-04-6.70920366e-04j\n",
      "   3.50057189e-04-3.14064328e-05j  2.81325803e-04-3.17244038e-04j]\n",
      " [-5.88821487e-03-5.15734748e-04j  1.07211690e-02-7.09971449e-03j\n",
      "   2.07445272e-03+2.64319403e-03j  5.06141416e-03-2.32700205e-03j\n",
      "   9.59567141e-04+1.44240953e-03j  1.90055212e-03-4.84644060e-04j\n",
      "   5.05566197e-04+6.70920366e-04j  1.15117444e-03+0.00000000e+00j\n",
      "   2.34921232e-05+1.16145703e-04j  4.48136824e-04+1.22247101e-04j]\n",
      " [-1.81045962e-04+1.96541657e-03j -1.01575126e-03-2.48340476e-03j\n",
      "   4.58532782e-04-3.72435471e-04j -1.47407418e-04-1.23123607e-03j\n",
      "   4.97568313e-04+9.36392453e-05j  1.74233730e-04-4.06312290e-04j\n",
      "   3.50057189e-04+3.14064328e-05j  2.34921232e-05-1.16145703e-04j\n",
      "   5.32500118e-04+0.00000000e+00j  8.08523562e-05-1.16015751e-04j]\n",
      " [-3.33004652e-03+1.24670622e-03j  3.85902042e-03-5.15756050e-03j\n",
      "   1.48900230e-03+1.01276792e-03j  2.24810010e-03-1.83489052e-03j\n",
      "   6.24104119e-04+1.06671436e-03j  1.03418621e-03-4.33565992e-04j\n",
      "   2.81325803e-04+3.17244038e-04j  4.48136824e-04-1.22247101e-04j\n",
      "   8.08523562e-05+1.16015751e-04j  4.62430312e-04+0.00000000e+00j]]\n"
     ]
    }
   ],
   "source": [
    "# Loading data\n",
    "parent = Path(os.path.dirname(os.getcwd()))\n",
    "date = \"091027\"\n",
    "#state = \"cat2\"\n",
    "state = \"tora12\"\n",
    "\n",
    "data_path = parent / \"data\" / \"dataframes\" / date\n",
    "print(data_path)\n",
    "data = pd.read_csv(data_path / (state + '.csv'))\n",
    "# Convert to numpy array\n",
    "x_values = np.array(data)\n",
    "x_values = np.swapaxes(x_values, 0, 1)\n",
    "\n",
    "# Make array from 0 to 165 in steps of 15\n",
    "thetas = np.arange(0, 166, 15)\n",
    "# Convert to radians\n",
    "thetas = np.radians(thetas)\n",
    "theta0 = np.deg2rad(147)\n",
    "x0 = -0.08\n",
    "\n",
    "#theta0 = 0\n",
    "#x0 = 0\n",
    "\n",
    "N = 10\n",
    "nrho = 4000\n",
    "num_bins = 200\n",
    "eps=0.1\n",
    "\n",
    "rho_est, logL_chain = run_BME(thetas-theta0, \n",
    "              x_values-x0,\n",
    "              num_bins=num_bins,\n",
    "              nrho=nrho,\n",
    "              N=N,\n",
    "              epsilon=eps\n",
    "              )\n",
    "\n",
    "print(rho_est)\n",
    "#np.save(\"rho_est.npy\", rho_est)\n",
    "\n"
   ]
  },
  {
   "cell_type": "code",
   "execution_count": null,
   "id": "ecfb665d",
   "metadata": {},
   "outputs": [
    {
     "name": "stdout",
     "output_type": "stream",
     "text": [
      "Computing Markov chain...\n",
      "\n",
      "Computing Markov chain...\n",
      "\n",
      "Computing Markov chain...\n",
      "\n",
      "Computing Markov chain...\n",
      "\n",
      "Computing Markov chain...\n",
      "\n",
      "Computing Markov chain...\n",
      "\n",
      "Computing Markov chain...\n",
      "\n",
      "Computing Markov chain...\n",
      "\n"
     ]
    }
   ],
   "source": [
    "%timeit run_BME(thetas-theta0,x_values-x0,num_bins=num_bins,nrho=nrho,N=N,epsilon=eps)"
   ]
  },
  {
   "cell_type": "code",
   "execution_count": null,
   "id": "35d3222a",
   "metadata": {},
   "outputs": [],
   "source": [
    "from WignerDensity import rho_to_Wigner\n",
    "\n",
    "# Define function for nice plotting\n",
    "def PlotSettings(ax, gridlines=False, minimalist=False):\n",
    "    # Minor ticks\n",
    "    ax.xaxis.set_minor_locator(AutoMinorLocator())\n",
    "    ax.yaxis.set_minor_locator(AutoMinorLocator())\n",
    "    # Minimalist style\n",
    "    if minimalist:\n",
    "        # Hide top and right spines (borders)\n",
    "        ax.spines['top'].set_visible(False)\n",
    "        ax.spines['right'].set_visible(False)\n",
    "        # Ticks only on bottom and left\n",
    "        ax.tick_params(which='both', top=False, right=False)\n",
    "    else:\n",
    "        # Tick parameters\n",
    "        ax.tick_params(which='both', direction='in', top=True, right=True)\n",
    "        ax.tick_params(which='major', length=7, width=1.2)\n",
    "        ax.tick_params(which='minor', length=4, width=1)\n",
    "    # Optional grid\n",
    "    if gridlines:\n",
    "        ax.grid(True, which=\"major\", linestyle=\"--\", linewidth=0.6, alpha=0.7)\n",
    "        ax.grid(True, which=\"minor\", linestyle=\":\", linewidth=0.5, alpha=0.4)\n",
    "\n",
    "def plot_Wigner(rho_est):\n",
    "    # Plot Wigner function\n",
    "    xvec = np.linspace(-4, 4, 200)\n",
    "    W = rho_to_Wigner(rho_est, xvec, xvec)\n",
    "    X, Y = np.meshgrid(xvec, xvec)\n",
    "    vmin, vmax = -1/np.pi, 1/np.pi\n",
    "    levels = np.linspace(vmin, vmax, 41)  # force levels across full range\n",
    "\n",
    "    fig, ax = plt.subplots(figsize=(6, 5))\n",
    "    # Filled contours with transparency\n",
    "    contour_filled = ax.contourf(X, Y, W, levels=levels,\n",
    "                                cmap='seismic', alpha=0.8, vmin=vmin, vmax=vmax)\n",
    "    # Colorbar\n",
    "    cbar = fig.colorbar(contour_filled, ax=ax, ticks=[-1/np.pi, 1/np.pi])\n",
    "    cbar.ax.set_yticklabels([r\"$-1/\\pi$\", r\"$1/\\pi$\"])  # custom tick labels if needed\n",
    "    # Move axes to cross at (0,0)\n",
    "    ax.spines['left'].set_position('zero')\n",
    "    ax.spines['bottom'].set_position('zero')\n",
    "    ax.spines['right'].set_color('none')\n",
    "    ax.spines['top'].set_color('none')\n",
    "    # Set x- and y-ticks skipping 0\n",
    "    ax.set_xticks([-3, -2, -1, 1, 2, 3])\n",
    "    ax.set_yticks([-3, -2, -1, 1, 2, 3])\n",
    "    PlotSettings(ax, minimalist=True)\n",
    "    plt.show()"
   ]
  },
  {
   "cell_type": "code",
   "execution_count": null,
   "id": "ae2c596e",
   "metadata": {},
   "outputs": [
    {
     "data": {
      "image/png": "[encoded data removed]",
      "text/plain": [
       "<Figure size 900x750 with 2 Axes>"
      ]
     },
     "metadata": {},
     "output_type": "display_data"
    }
   ],
   "source": [
    "plot_Wigner(rho_est)"
   ]
  },
  {
   "cell_type": "code",
   "execution_count": null,
   "id": "45a0f9cf",
   "metadata": {},
   "outputs": [
    {
     "name": "stdout",
     "output_type": "stream",
     "text": [
      "Running iMLE for N=3, bins=60\n",
      "Computing Markov chain...\n",
      "\n"
     ]
    },
    {
     "name": "stderr",
     "output_type": "stream",
     "text": [
      "100%|██████████| 10000/10000 [00:01<00:00, 9100.15it/s]\n"
     ]
    },
    {
     "name": "stdout",
     "output_type": "stream",
     "text": [
      "Running iMLE for N=3, bins=80\n",
      "Computing Markov chain...\n",
      "\n"
     ]
    },
    {
     "name": "stderr",
     "output_type": "stream",
     "text": [
      "100%|██████████| 10000/10000 [00:01<00:00, 8530.89it/s]\n"
     ]
    },
    {
     "name": "stdout",
     "output_type": "stream",
     "text": [
      "Running iMLE for N=3, bins=100\n",
      "Computing Markov chain...\n",
      "\n"
     ]
    },
    {
     "name": "stderr",
     "output_type": "stream",
     "text": [
      "100%|██████████| 10000/10000 [00:01<00:00, 7922.30it/s]\n"
     ]
    },
    {
     "name": "stdout",
     "output_type": "stream",
     "text": [
      "Running iMLE for N=3, bins=120\n",
      "Computing Markov chain...\n",
      "\n"
     ]
    },
    {
     "name": "stderr",
     "output_type": "stream",
     "text": [
      "100%|██████████| 10000/10000 [00:01<00:00, 7808.58it/s]\n"
     ]
    },
    {
     "name": "stdout",
     "output_type": "stream",
     "text": [
      "Running iMLE for N=3, bins=140\n",
      "Computing Markov chain...\n",
      "\n"
     ]
    },
    {
     "name": "stderr",
     "output_type": "stream",
     "text": [
      "100%|██████████| 10000/10000 [00:01<00:00, 7124.33it/s]\n"
     ]
    },
    {
     "name": "stdout",
     "output_type": "stream",
     "text": [
      "Running iMLE for N=3, bins=160\n",
      "Computing Markov chain...\n",
      "\n"
     ]
    },
    {
     "name": "stderr",
     "output_type": "stream",
     "text": [
      "100%|██████████| 10000/10000 [00:01<00:00, 6974.06it/s]\n"
     ]
    },
    {
     "name": "stdout",
     "output_type": "stream",
     "text": [
      "Running iMLE for N=3, bins=180\n",
      "Computing Markov chain...\n",
      "\n"
     ]
    },
    {
     "name": "stderr",
     "output_type": "stream",
     "text": [
      "100%|██████████| 10000/10000 [00:01<00:00, 8291.32it/s]\n"
     ]
    },
    {
     "name": "stdout",
     "output_type": "stream",
     "text": [
      "Running iMLE for N=3, bins=200\n",
      "Computing Markov chain...\n",
      "\n"
     ]
    },
    {
     "name": "stderr",
     "output_type": "stream",
     "text": [
      "100%|██████████| 10000/10000 [00:01<00:00, 7999.33it/s]\n"
     ]
    },
    {
     "name": "stdout",
     "output_type": "stream",
     "text": [
      "Running iMLE for N=4, bins=60\n",
      "Computing Markov chain...\n",
      "\n"
     ]
    },
    {
     "name": "stderr",
     "output_type": "stream",
     "text": [
      "100%|██████████| 10000/10000 [00:00<00:00, 10024.73it/s]\n"
     ]
    },
    {
     "name": "stdout",
     "output_type": "stream",
     "text": [
      "Running iMLE for N=4, bins=80\n",
      "Computing Markov chain...\n",
      "\n"
     ]
    },
    {
     "name": "stderr",
     "output_type": "stream",
     "text": [
      "100%|██████████| 10000/10000 [00:01<00:00, 8670.36it/s]\n"
     ]
    },
    {
     "name": "stdout",
     "output_type": "stream",
     "text": [
      "Running iMLE for N=4, bins=100\n",
      "Computing Markov chain...\n",
      "\n"
     ]
    },
    {
     "name": "stderr",
     "output_type": "stream",
     "text": [
      "100%|██████████| 10000/10000 [00:01<00:00, 7947.37it/s]\n"
     ]
    },
    {
     "name": "stdout",
     "output_type": "stream",
     "text": [
      "Running iMLE for N=4, bins=120\n",
      "Computing Markov chain...\n",
      "\n"
     ]
    },
    {
     "name": "stderr",
     "output_type": "stream",
     "text": [
      "100%|██████████| 10000/10000 [00:01<00:00, 7259.20it/s]\n"
     ]
    },
    {
     "name": "stdout",
     "output_type": "stream",
     "text": [
      "Running iMLE for N=4, bins=140\n",
      "Computing Markov chain...\n",
      "\n"
     ]
    },
    {
     "name": "stderr",
     "output_type": "stream",
     "text": [
      "100%|██████████| 10000/10000 [00:01<00:00, 8430.84it/s]\n"
     ]
    },
    {
     "name": "stdout",
     "output_type": "stream",
     "text": [
      "Running iMLE for N=4, bins=160\n",
      "Computing Markov chain...\n",
      "\n"
     ]
    },
    {
     "name": "stderr",
     "output_type": "stream",
     "text": [
      "100%|██████████| 10000/10000 [00:01<00:00, 7978.38it/s]\n"
     ]
    },
    {
     "name": "stdout",
     "output_type": "stream",
     "text": [
      "Running iMLE for N=4, bins=180\n",
      "Computing Markov chain...\n",
      "\n"
     ]
    },
    {
     "name": "stderr",
     "output_type": "stream",
     "text": [
      "100%|██████████| 10000/10000 [00:01<00:00, 7593.19it/s]\n"
     ]
    },
    {
     "name": "stdout",
     "output_type": "stream",
     "text": [
      "Running iMLE for N=4, bins=200\n",
      "Computing Markov chain...\n",
      "\n"
     ]
    },
    {
     "name": "stderr",
     "output_type": "stream",
     "text": [
      "100%|██████████| 10000/10000 [00:01<00:00, 7060.65it/s]\n"
     ]
    },
    {
     "name": "stdout",
     "output_type": "stream",
     "text": [
      "Running iMLE for N=5, bins=60\n",
      "Computing Markov chain...\n",
      "\n"
     ]
    },
    {
     "name": "stderr",
     "output_type": "stream",
     "text": [
      "100%|██████████| 10000/10000 [00:01<00:00, 9729.60it/s]\n"
     ]
    },
    {
     "name": "stdout",
     "output_type": "stream",
     "text": [
      "Running iMLE for N=5, bins=80\n",
      "Computing Markov chain...\n",
      "\n"
     ]
    },
    {
     "name": "stderr",
     "output_type": "stream",
     "text": [
      "100%|██████████| 10000/10000 [00:01<00:00, 8962.78it/s]\n"
     ]
    },
    {
     "name": "stdout",
     "output_type": "stream",
     "text": [
      "Running iMLE for N=5, bins=100\n",
      "Computing Markov chain...\n",
      "\n"
     ]
    },
    {
     "name": "stderr",
     "output_type": "stream",
     "text": [
      "100%|██████████| 10000/10000 [00:01<00:00, 8259.51it/s]\n"
     ]
    },
    {
     "name": "stdout",
     "output_type": "stream",
     "text": [
      "Running iMLE for N=5, bins=120\n",
      "Computing Markov chain...\n",
      "\n"
     ]
    },
    {
     "name": "stderr",
     "output_type": "stream",
     "text": [
      "100%|██████████| 10000/10000 [00:01<00:00, 8017.44it/s]\n"
     ]
    },
    {
     "name": "stdout",
     "output_type": "stream",
     "text": [
      "Running iMLE for N=5, bins=140\n",
      "Computing Markov chain...\n",
      "\n"
     ]
    },
    {
     "name": "stderr",
     "output_type": "stream",
     "text": [
      "100%|██████████| 10000/10000 [00:01<00:00, 7284.77it/s]\n"
     ]
    },
    {
     "name": "stdout",
     "output_type": "stream",
     "text": [
      "Running iMLE for N=5, bins=160\n",
      "Computing Markov chain...\n",
      "\n"
     ]
    },
    {
     "name": "stderr",
     "output_type": "stream",
     "text": [
      "100%|██████████| 10000/10000 [00:01<00:00, 6960.10it/s]\n"
     ]
    },
    {
     "name": "stdout",
     "output_type": "stream",
     "text": [
      "Running iMLE for N=5, bins=180\n",
      "Computing Markov chain...\n",
      "\n"
     ]
    },
    {
     "name": "stderr",
     "output_type": "stream",
     "text": [
      "100%|██████████| 10000/10000 [00:01<00:00, 6572.94it/s]\n"
     ]
    },
    {
     "name": "stdout",
     "output_type": "stream",
     "text": [
      "Running iMLE for N=5, bins=200\n",
      "Computing Markov chain...\n",
      "\n"
     ]
    },
    {
     "name": "stderr",
     "output_type": "stream",
     "text": [
      "100%|██████████| 10000/10000 [00:01<00:00, 6182.37it/s]\n"
     ]
    },
    {
     "name": "stdout",
     "output_type": "stream",
     "text": [
      "Running iMLE for N=6, bins=60\n",
      "Computing Markov chain...\n",
      "\n"
     ]
    },
    {
     "name": "stderr",
     "output_type": "stream",
     "text": [
      "100%|██████████| 10000/10000 [00:01<00:00, 9373.19it/s]\n"
     ]
    },
    {
     "name": "stdout",
     "output_type": "stream",
     "text": [
      "Running iMLE for N=6, bins=80\n",
      "Computing Markov chain...\n",
      "\n"
     ]
    },
    {
     "name": "stderr",
     "output_type": "stream",
     "text": [
      "100%|██████████| 10000/10000 [00:01<00:00, 8768.86it/s]\n"
     ]
    },
    {
     "name": "stdout",
     "output_type": "stream",
     "text": [
      "Running iMLE for N=6, bins=100\n",
      "Computing Markov chain...\n",
      "\n"
     ]
    },
    {
     "name": "stderr",
     "output_type": "stream",
     "text": [
      "100%|██████████| 10000/10000 [00:01<00:00, 8111.58it/s]\n"
     ]
    },
    {
     "name": "stdout",
     "output_type": "stream",
     "text": [
      "Running iMLE for N=6, bins=120\n",
      "Computing Markov chain...\n",
      "\n"
     ]
    },
    {
     "name": "stderr",
     "output_type": "stream",
     "text": [
      "100%|██████████| 10000/10000 [00:01<00:00, 7448.73it/s]\n"
     ]
    },
    {
     "name": "stdout",
     "output_type": "stream",
     "text": [
      "Running iMLE for N=6, bins=140\n",
      "Computing Markov chain...\n",
      "\n"
     ]
    },
    {
     "name": "stderr",
     "output_type": "stream",
     "text": [
      "100%|██████████| 10000/10000 [00:01<00:00, 6850.28it/s]\n"
     ]
    },
    {
     "name": "stdout",
     "output_type": "stream",
     "text": [
      "Running iMLE for N=6, bins=160\n",
      "Computing Markov chain...\n",
      "\n"
     ]
    },
    {
     "name": "stderr",
     "output_type": "stream",
     "text": [
      "100%|██████████| 10000/10000 [00:01<00:00, 6289.64it/s]\n"
     ]
    },
    {
     "name": "stdout",
     "output_type": "stream",
     "text": [
      "Running iMLE for N=6, bins=180\n",
      "Computing Markov chain...\n",
      "\n"
     ]
    },
    {
     "name": "stderr",
     "output_type": "stream",
     "text": [
      "100%|██████████| 10000/10000 [00:01<00:00, 5527.46it/s]\n"
     ]
    },
    {
     "name": "stdout",
     "output_type": "stream",
     "text": [
      "Running iMLE for N=6, bins=200\n",
      "Computing Markov chain...\n",
      "\n"
     ]
    },
    {
     "name": "stderr",
     "output_type": "stream",
     "text": [
      "100%|██████████| 10000/10000 [00:01<00:00, 5526.38it/s]\n"
     ]
    },
    {
     "name": "stdout",
     "output_type": "stream",
     "text": [
      "Running iMLE for N=7, bins=60\n",
      "Computing Markov chain...\n",
      "\n"
     ]
    },
    {
     "name": "stderr",
     "output_type": "stream",
     "text": [
      "100%|██████████| 10000/10000 [00:01<00:00, 9120.73it/s]\n"
     ]
    },
    {
     "name": "stdout",
     "output_type": "stream",
     "text": [
      "Running iMLE for N=7, bins=80\n",
      "Computing Markov chain...\n",
      "\n"
     ]
    },
    {
     "name": "stderr",
     "output_type": "stream",
     "text": [
      "100%|██████████| 10000/10000 [00:01<00:00, 7860.39it/s]\n"
     ]
    },
    {
     "name": "stdout",
     "output_type": "stream",
     "text": [
      "Running iMLE for N=7, bins=100\n",
      "Computing Markov chain...\n",
      "\n"
     ]
    },
    {
     "name": "stderr",
     "output_type": "stream",
     "text": [
      "100%|██████████| 10000/10000 [00:01<00:00, 7289.34it/s]\n"
     ]
    },
    {
     "name": "stdout",
     "output_type": "stream",
     "text": [
      "Running iMLE for N=7, bins=120\n",
      "Computing Markov chain...\n",
      "\n"
     ]
    },
    {
     "name": "stderr",
     "output_type": "stream",
     "text": [
      "100%|██████████| 10000/10000 [00:01<00:00, 6617.50it/s]\n"
     ]
    },
    {
     "name": "stdout",
     "output_type": "stream",
     "text": [
      "Running iMLE for N=7, bins=140\n",
      "Computing Markov chain...\n",
      "\n"
     ]
    },
    {
     "name": "stderr",
     "output_type": "stream",
     "text": [
      "100%|██████████| 10000/10000 [00:01<00:00, 5551.97it/s]\n"
     ]
    },
    {
     "name": "stdout",
     "output_type": "stream",
     "text": [
      "Running iMLE for N=7, bins=160\n",
      "Computing Markov chain...\n",
      "\n"
     ]
    },
    {
     "name": "stderr",
     "output_type": "stream",
     "text": [
      "100%|██████████| 10000/10000 [00:01<00:00, 5237.50it/s]\n"
     ]
    },
    {
     "name": "stdout",
     "output_type": "stream",
     "text": [
      "Running iMLE for N=7, bins=180\n",
      "Computing Markov chain...\n",
      "\n"
     ]
    },
    {
     "name": "stderr",
     "output_type": "stream",
     "text": [
      "100%|██████████| 10000/10000 [00:02<00:00, 4662.26it/s]\n"
     ]
    },
    {
     "name": "stdout",
     "output_type": "stream",
     "text": [
      "Running iMLE for N=7, bins=200\n",
      "Computing Markov chain...\n",
      "\n"
     ]
    },
    {
     "name": "stderr",
     "output_type": "stream",
     "text": [
      "100%|██████████| 10000/10000 [00:02<00:00, 4450.09it/s]\n"
     ]
    },
    {
     "name": "stdout",
     "output_type": "stream",
     "text": [
      "Running iMLE for N=8, bins=60\n",
      "Computing Markov chain...\n",
      "\n"
     ]
    },
    {
     "name": "stderr",
     "output_type": "stream",
     "text": [
      "100%|██████████| 10000/10000 [00:01<00:00, 7176.28it/s]\n"
     ]
    },
    {
     "name": "stdout",
     "output_type": "stream",
     "text": [
      "Running iMLE for N=8, bins=80\n",
      "Computing Markov chain...\n",
      "\n"
     ]
    },
    {
     "name": "stderr",
     "output_type": "stream",
     "text": [
      "100%|██████████| 10000/10000 [00:01<00:00, 6752.22it/s]\n"
     ]
    },
    {
     "name": "stdout",
     "output_type": "stream",
     "text": [
      "Running iMLE for N=8, bins=100\n",
      "Computing Markov chain...\n",
      "\n"
     ]
    },
    {
     "name": "stderr",
     "output_type": "stream",
     "text": [
      "100%|██████████| 10000/10000 [00:01<00:00, 6167.19it/s]\n"
     ]
    },
    {
     "name": "stdout",
     "output_type": "stream",
     "text": [
      "Running iMLE for N=8, bins=120\n",
      "Computing Markov chain...\n",
      "\n"
     ]
    },
    {
     "name": "stderr",
     "output_type": "stream",
     "text": [
      "100%|██████████| 10000/10000 [00:01<00:00, 5918.07it/s]\n"
     ]
    },
    {
     "name": "stdout",
     "output_type": "stream",
     "text": [
      "Running iMLE for N=8, bins=140\n",
      "Computing Markov chain...\n",
      "\n"
     ]
    },
    {
     "name": "stderr",
     "output_type": "stream",
     "text": [
      "100%|██████████| 10000/10000 [00:01<00:00, 5410.23it/s]\n"
     ]
    },
    {
     "name": "stdout",
     "output_type": "stream",
     "text": [
      "Running iMLE for N=8, bins=160\n",
      "Computing Markov chain...\n",
      "\n"
     ]
    },
    {
     "name": "stderr",
     "output_type": "stream",
     "text": [
      "100%|██████████| 10000/10000 [00:01<00:00, 5492.70it/s]\n"
     ]
    },
    {
     "name": "stdout",
     "output_type": "stream",
     "text": [
      "Running iMLE for N=8, bins=180\n",
      "Computing Markov chain...\n",
      "\n"
     ]
    },
    {
     "name": "stderr",
     "output_type": "stream",
     "text": [
      "100%|██████████| 10000/10000 [00:01<00:00, 5009.72it/s]\n"
     ]
    },
    {
     "name": "stdout",
     "output_type": "stream",
     "text": [
      "Running iMLE for N=8, bins=200\n",
      "Computing Markov chain...\n",
      "\n"
     ]
    },
    {
     "name": "stderr",
     "output_type": "stream",
     "text": [
      "100%|██████████| 10000/10000 [00:02<00:00, 4546.22it/s]\n"
     ]
    },
    {
     "name": "stdout",
     "output_type": "stream",
     "text": [
      "Running iMLE for N=9, bins=60\n",
      "Computing Markov chain...\n",
      "\n"
     ]
    },
    {
     "name": "stderr",
     "output_type": "stream",
     "text": [
      "100%|██████████| 10000/10000 [00:01<00:00, 6705.42it/s]\n"
     ]
    },
    {
     "name": "stdout",
     "output_type": "stream",
     "text": [
      "Running iMLE for N=9, bins=80\n",
      "Computing Markov chain...\n",
      "\n"
     ]
    },
    {
     "name": "stderr",
     "output_type": "stream",
     "text": [
      "100%|██████████| 10000/10000 [00:01<00:00, 6331.78it/s]\n"
     ]
    },
    {
     "name": "stdout",
     "output_type": "stream",
     "text": [
      "Running iMLE for N=9, bins=100\n",
      "Computing Markov chain...\n",
      "\n"
     ]
    },
    {
     "name": "stderr",
     "output_type": "stream",
     "text": [
      "100%|██████████| 10000/10000 [00:01<00:00, 5714.65it/s]\n"
     ]
    },
    {
     "name": "stdout",
     "output_type": "stream",
     "text": [
      "Running iMLE for N=9, bins=120\n",
      "Computing Markov chain...\n",
      "\n"
     ]
    },
    {
     "name": "stderr",
     "output_type": "stream",
     "text": [
      "100%|██████████| 10000/10000 [00:01<00:00, 5344.09it/s]\n"
     ]
    },
    {
     "name": "stdout",
     "output_type": "stream",
     "text": [
      "Running iMLE for N=9, bins=140\n",
      "Computing Markov chain...\n",
      "\n"
     ]
    },
    {
     "name": "stderr",
     "output_type": "stream",
     "text": [
      "100%|██████████| 10000/10000 [00:02<00:00, 4893.23it/s]\n"
     ]
    },
    {
     "name": "stdout",
     "output_type": "stream",
     "text": [
      "Running iMLE for N=9, bins=160\n",
      "Computing Markov chain...\n",
      "\n"
     ]
    },
    {
     "name": "stderr",
     "output_type": "stream",
     "text": [
      "100%|██████████| 10000/10000 [00:02<00:00, 4619.26it/s]\n"
     ]
    },
    {
     "name": "stdout",
     "output_type": "stream",
     "text": [
      "Running iMLE for N=9, bins=180\n",
      "Computing Markov chain...\n",
      "\n"
     ]
    },
    {
     "name": "stderr",
     "output_type": "stream",
     "text": [
      "100%|██████████| 10000/10000 [00:02<00:00, 3990.31it/s]\n"
     ]
    },
    {
     "name": "stdout",
     "output_type": "stream",
     "text": [
      "Running iMLE for N=9, bins=200\n",
      "Computing Markov chain...\n",
      "\n"
     ]
    },
    {
     "name": "stderr",
     "output_type": "stream",
     "text": [
      "100%|██████████| 10000/10000 [00:02<00:00, 3931.81it/s]\n"
     ]
    },
    {
     "name": "stdout",
     "output_type": "stream",
     "text": [
      "Running iMLE for N=10, bins=60\n",
      "Computing Markov chain...\n",
      "\n"
     ]
    },
    {
     "name": "stderr",
     "output_type": "stream",
     "text": [
      "100%|██████████| 10000/10000 [00:01<00:00, 6815.50it/s]\n"
     ]
    },
    {
     "name": "stdout",
     "output_type": "stream",
     "text": [
      "Running iMLE for N=10, bins=80\n",
      "Computing Markov chain...\n",
      "\n"
     ]
    },
    {
     "name": "stderr",
     "output_type": "stream",
     "text": [
      "100%|██████████| 10000/10000 [00:01<00:00, 6475.17it/s]\n"
     ]
    },
    {
     "name": "stdout",
     "output_type": "stream",
     "text": [
      "Running iMLE for N=10, bins=100\n",
      "Computing Markov chain...\n",
      "\n"
     ]
    },
    {
     "name": "stderr",
     "output_type": "stream",
     "text": [
      "100%|██████████| 10000/10000 [00:01<00:00, 5686.32it/s]\n"
     ]
    },
    {
     "name": "stdout",
     "output_type": "stream",
     "text": [
      "Running iMLE for N=10, bins=120\n",
      "Computing Markov chain...\n",
      "\n"
     ]
    },
    {
     "name": "stderr",
     "output_type": "stream",
     "text": [
      "100%|██████████| 10000/10000 [00:01<00:00, 5603.06it/s]\n"
     ]
    },
    {
     "name": "stdout",
     "output_type": "stream",
     "text": [
      "Running iMLE for N=10, bins=140\n",
      "Computing Markov chain...\n",
      "\n"
     ]
    },
    {
     "name": "stderr",
     "output_type": "stream",
     "text": [
      "100%|██████████| 10000/10000 [00:01<00:00, 5048.80it/s]\n"
     ]
    },
    {
     "name": "stdout",
     "output_type": "stream",
     "text": [
      "Running iMLE for N=10, bins=160\n",
      "Computing Markov chain...\n",
      "\n"
     ]
    },
    {
     "name": "stderr",
     "output_type": "stream",
     "text": [
      "100%|██████████| 10000/10000 [00:02<00:00, 4469.94it/s]\n"
     ]
    },
    {
     "name": "stdout",
     "output_type": "stream",
     "text": [
      "Running iMLE for N=10, bins=180\n",
      "Computing Markov chain...\n",
      "\n"
     ]
    },
    {
     "name": "stderr",
     "output_type": "stream",
     "text": [
      "100%|██████████| 10000/10000 [00:02<00:00, 4134.48it/s]\n"
     ]
    },
    {
     "name": "stdout",
     "output_type": "stream",
     "text": [
      "Running iMLE for N=10, bins=200\n",
      "Computing Markov chain...\n",
      "\n"
     ]
    },
    {
     "name": "stderr",
     "output_type": "stream",
     "text": [
      "100%|██████████| 10000/10000 [00:02<00:00, 4498.45it/s]\n"
     ]
    }
   ],
   "source": [
    "N_values = [i for i in range(3, 11)]\n",
    "nbin_values = [i*20 for i in range(3, 11)]\n",
    "\n",
    "delta_ll, runtime_grid = run_BME_benchmark(\n",
    "    thetas, x_values, N_values, nbin_values,[10000],\n",
    ")"
   ]
  },
  {
   "cell_type": "code",
   "execution_count": 5,
   "id": "9a1819cc",
   "metadata": {},
   "outputs": [],
   "source": [
    "def plot_results(delta_ll, runtime_grid, N_values, nbin_values):\n",
    "    fig, axs = plt.subplots(1, 2, figsize=(12, 5), constrained_layout=True)\n",
    "\n",
    "    # First heatmap: Δ log-likelihood\n",
    "    c0 = axs[0].pcolormesh(nbin_values, N_values, delta_ll, shading=\"auto\", cmap=\"viridis\")\n",
    "    axs[0].set_title(\"Δ log-likelihood per sample\")\n",
    "    axs[0].set_xlabel(\"Number of bins\")\n",
    "    axs[0].set_ylabel(\"Fock cutoff N\")\n",
    "    axs[0].set_xticks(nbin_values)\n",
    "    axs[0].set_yticks(N_values)\n",
    "    fig.colorbar(c0, ax=axs[0])\n",
    "\n",
    "    # Second heatmap: Runtime\n",
    "    c1 = axs[1].pcolormesh(nbin_values, N_values, runtime_grid, shading=\"auto\", cmap=\"magma\")\n",
    "    axs[1].set_title(\"Runtime (s)\")\n",
    "    axs[1].set_xlabel(\"Number of bins\")\n",
    "    axs[1].set_ylabel(\"Fock cutoff N\")\n",
    "    axs[1].set_xticks(nbin_values)\n",
    "    axs[1].set_yticks(N_values)\n",
    "    fig.colorbar(c1, ax=axs[1])\n",
    "\n",
    "    plt.show()"
   ]
  },
  {
   "cell_type": "code",
   "execution_count": 6,
   "id": "ca8f3f34",
   "metadata": {},
   "outputs": [
    {
     "data": {
      "image/png": "[encoded data removed]",
      "text/plain": [
       "<Figure size 1800x750 with 4 Axes>"
      ]
     },
     "metadata": {},
     "output_type": "display_data"
    }
   ],
   "source": [
    "plot_results(delta_ll, runtime_grid, N_values, nbin_values)"
   ]
  },
  {
   "cell_type": "code",
   "execution_count": 22,
   "id": "f30ec6a3",
   "metadata": {},
   "outputs": [
    {
     "name": "stdout",
     "output_type": "stream",
     "text": [
      "Running BME for nrho=500\n",
      "Computing Markov chain...\n",
      "\n"
     ]
    },
    {
     "name": "stderr",
     "output_type": "stream",
     "text": [
      "100%|██████████| 500/500 [00:00<00:00, 4731.40it/s]\n"
     ]
    },
    {
     "name": "stdout",
     "output_type": "stream",
     "text": [
      "Running BME for nrho=1000\n",
      "Computing Markov chain...\n",
      "\n"
     ]
    },
    {
     "name": "stderr",
     "output_type": "stream",
     "text": [
      "100%|██████████| 1000/1000 [00:00<00:00, 5260.30it/s]\n"
     ]
    },
    {
     "name": "stdout",
     "output_type": "stream",
     "text": [
      "Running BME for nrho=2000\n",
      "Computing Markov chain...\n",
      "\n"
     ]
    },
    {
     "name": "stderr",
     "output_type": "stream",
     "text": [
      "100%|██████████| 2000/2000 [00:00<00:00, 5020.56it/s]\n"
     ]
    },
    {
     "name": "stdout",
     "output_type": "stream",
     "text": [
      "Running BME for nrho=4000\n",
      "Computing Markov chain...\n",
      "\n"
     ]
    },
    {
     "name": "stderr",
     "output_type": "stream",
     "text": [
      "100%|██████████| 4000/4000 [00:00<00:00, 5507.08it/s]\n"
     ]
    },
    {
     "name": "stdout",
     "output_type": "stream",
     "text": [
      "Running BME for nrho=6000\n",
      "Computing Markov chain...\n",
      "\n"
     ]
    },
    {
     "name": "stderr",
     "output_type": "stream",
     "text": [
      "100%|██████████| 6000/6000 [00:01<00:00, 5144.14it/s]\n"
     ]
    },
    {
     "name": "stdout",
     "output_type": "stream",
     "text": [
      "Running BME for nrho=8000\n",
      "Computing Markov chain...\n",
      "\n"
     ]
    },
    {
     "name": "stderr",
     "output_type": "stream",
     "text": [
      "100%|██████████| 8000/8000 [00:01<00:00, 5390.99it/s]\n"
     ]
    },
    {
     "name": "stdout",
     "output_type": "stream",
     "text": [
      "Running BME for nrho=10000\n",
      "Computing Markov chain...\n",
      "\n"
     ]
    },
    {
     "name": "stderr",
     "output_type": "stream",
     "text": [
      "100%|██████████| 10000/10000 [00:01<00:00, 5380.06it/s]\n"
     ]
    },
    {
     "name": "stdout",
     "output_type": "stream",
     "text": [
      "Running BME for nrho=12000\n",
      "Computing Markov chain...\n",
      "\n"
     ]
    },
    {
     "name": "stderr",
     "output_type": "stream",
     "text": [
      "100%|██████████| 12000/12000 [00:02<00:00, 5445.56it/s]\n"
     ]
    },
    {
     "name": "stdout",
     "output_type": "stream",
     "text": [
      "Running BME for nrho=14000\n",
      "Computing Markov chain...\n",
      "\n"
     ]
    },
    {
     "name": "stderr",
     "output_type": "stream",
     "text": [
      "100%|██████████| 14000/14000 [00:02<00:00, 5354.08it/s]\n"
     ]
    },
    {
     "name": "stdout",
     "output_type": "stream",
     "text": [
      "Running BME for nrho=16000\n",
      "Computing Markov chain...\n",
      "\n"
     ]
    },
    {
     "name": "stderr",
     "output_type": "stream",
     "text": [
      "100%|██████████| 16000/16000 [00:02<00:00, 5498.85it/s]\n"
     ]
    },
    {
     "name": "stdout",
     "output_type": "stream",
     "text": [
      "Running BME for nrho=18000\n",
      "Computing Markov chain...\n",
      "\n"
     ]
    },
    {
     "name": "stderr",
     "output_type": "stream",
     "text": [
      "100%|██████████| 18000/18000 [00:03<00:00, 5569.10it/s]\n"
     ]
    },
    {
     "name": "stdout",
     "output_type": "stream",
     "text": [
      "Running BME for nrho=20000\n",
      "Computing Markov chain...\n",
      "\n"
     ]
    },
    {
     "name": "stderr",
     "output_type": "stream",
     "text": [
      "100%|██████████| 20000/20000 [00:03<00:00, 5490.36it/s]\n"
     ]
    }
   ],
   "source": [
    "N_values = [8]\n",
    "nbin_values = [160]\n",
    "\n",
    "nrhos = [500, 1000]+[2000 * i for i in range(1, 11)]  # 1000, 2000, ..., 10000\n",
    "\n",
    "delta_ll, runtime_grid = run_BME_benchmark(\n",
    "    thetas, x_values, N_values, nbin_values,nrhos,\n",
    "\n",
    ")"
   ]
  },
  {
   "cell_type": "code",
   "execution_count": 23,
   "id": "cfac3174",
   "metadata": {},
   "outputs": [],
   "source": [
    "def plot_results_rho(delta_ll, runtime_grid, nrhos):\n",
    "    fig, axs = plt.subplots(1, 2, figsize=(12, 5), constrained_layout=True)\n",
    "\n",
    "    # Flatten arrays to ensure 1D\n",
    "    delta_ll = np.ravel(delta_ll)\n",
    "    runtime_grid = np.ravel(runtime_grid)\n",
    "\n",
    "    # Δ log-likelihood per sample\n",
    "    axs[0].plot(nrhos, delta_ll, marker='o')\n",
    "    axs[0].set_title(\"Δ log-likelihood per sample\")\n",
    "    axs[0].set_xlabel(\"Number of states (nrhos)\")\n",
    "    axs[0].set_ylabel(\"Δ log-likelihood\")\n",
    "\n",
    "    # Runtime\n",
    "    axs[1].plot(nrhos, runtime_grid, marker='o', color='orange')\n",
    "    axs[1].set_title(\"Runtime (s)\")\n",
    "    axs[1].set_xlabel(\"Number of states (nrhos)\")\n",
    "    axs[1].set_ylabel(\"Runtime (s)\")\n",
    "\n",
    "    plt.show()\n"
   ]
  },
  {
   "cell_type": "code",
   "execution_count": 24,
   "id": "83751040",
   "metadata": {},
   "outputs": [
    {
     "data": {
      "image/png": "[encoded data removed]",
      "text/plain": [
       "<Figure size 1800x750 with 2 Axes>"
      ]
     },
     "metadata": {},
     "output_type": "display_data"
    }
   ],
   "source": [
    "plot_results_rho(delta_ll, runtime_grid, nrhos)"
   ]
  },
  {
   "cell_type": "code",
   "execution_count": null,
   "id": "39dba5ed",
   "metadata": {},
   "outputs": [],
   "source": []
  }
 ],
 "metadata": {
  "kernelspec": {
   "display_name": "sciqis (3.13.5)",
   "language": "python",
   "name": "python3"
  },
  "language_info": {
   "codemirror_mode": {
    "name": "ipython",
    "version": 3
   },
   "file_extension": ".py",
   "mimetype": "text/x-python",
   "name": "python",
   "nbconvert_exporter": "python",
   "pygments_lexer": "ipython3",
   "version": "3.13.5"
  }
 },
 "nbformat": 4,
 "nbformat_minor": 5
}
