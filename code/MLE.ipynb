{
 "cells": [
  {
   "cell_type": "markdown",
   "id": "9ab2e461",
   "metadata": {},
   "source": [
    "# Maximum likelihood estimation (MLE)"
   ]
  },
  {
   "cell_type": "markdown",
   "id": "a144c332",
   "metadata": {},
   "source": []
  }
 ],
 "metadata": {
  "language_info": {
   "name": "python"
  }
 },
 "nbformat": 4,
 "nbformat_minor": 5
}
