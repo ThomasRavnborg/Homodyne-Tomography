{
 "cells": [
  {
   "cell_type": "markdown",
   "id": "ef8c378f",
   "metadata": {},
   "source": [
    "# Homodyne tomography"
   ]
  },
  {
   "cell_type": "markdown",
   "id": "d222219d",
   "metadata": {},
   "source": [
    "### What is Homodyne tomography?"
   ]
  },
  {
   "cell_type": "markdown",
   "id": "aad76e6f",
   "metadata": {},
   "source": [
    "Homodyne tomography is a method for reconstructing quantum states of light by measuring field quadratures $Q_\\theta$ at different local oscillator (LO) phases $\\theta$ using a Homodyne detection scheme. From these measurements, one can recover the Wigner function $W(Q,P)$ and density matrix $\\rho$, which makes it a key tool for verifying the preparation of nonclassical states in quantum optics."
   ]
  },
  {
   "cell_type": "markdown",
   "id": "f3fbd0fa",
   "metadata": {},
   "source": [
    "<img src=\"../images/HomodyneTomography.png\" alt=\"Homodyne Tomography\" height=\"250\"/>\n",
    "<img src=\"../images/HomodyneDetector.png\" alt=\"Homodyne Detector\" height=\"250\"/>"
   ]
  },
  {
   "cell_type": "markdown",
   "id": "c0c270ba",
   "metadata": {},
   "source": [
    "In the paper *Optical Continuous-Variable Qubit* (see references), superpositions of squeezed vacuum and squeezed single-photon states were engineered using photon subtraction. The setup employed an optical parametric oscillator (OPO) to generate squeezed vacuum, a small fraction of which was tapped off, displaced, and detected by an avalanche photodiode (APD). Conditional detection prepared the desired superpositions, which were then analyzed using balanced homodyne detection across multiple LO phases."
   ]
  },
  {
   "cell_type": "markdown",
   "id": "f74d651e",
   "metadata": {},
   "source": [
    "<img src=\"../images/ExperimentalSetup.png\" alt=\"Homodyne Tomography\" height=\"250\"/>"
   ]
  },
  {
   "cell_type": "markdown",
   "id": "89441e2f",
   "metadata": {},
   "source": [
    "In this notebook, we work with the experimental data obtained using this setup. Our goal is to benchmark and compare two different reconstruction methods - Maximum Likelihood Estimation and Bayesian Mean Estimation - to reproduce the Wigner functions reported in the paper."
   ]
  },
  {
   "cell_type": "markdown",
   "id": "5e699732",
   "metadata": {},
   "source": [
    "### Loading and processing data"
   ]
  },
  {
   "cell_type": "markdown",
   "id": "e97f52fe",
   "metadata": {},
   "source": []
  },
  {
   "cell_type": "markdown",
   "id": "05da1953",
   "metadata": {},
   "source": [
    "### Calculating quadrature values"
   ]
  },
  {
   "cell_type": "markdown",
   "id": "bf7f2239",
   "metadata": {},
   "source": []
  },
  {
   "cell_type": "markdown",
   "id": "b03b9173",
   "metadata": {},
   "source": [
    "### Reconstruction algoritms"
   ]
  },
  {
   "cell_type": "markdown",
   "id": "bff2863f",
   "metadata": {},
   "source": []
  },
  {
   "cell_type": "markdown",
   "id": "82101104",
   "metadata": {},
   "source": [
    "#### Itterative Maxium Likelihood Estimation (iMLE)"
   ]
  },
  {
   "cell_type": "markdown",
   "id": "6ca1380a",
   "metadata": {},
   "source": []
  },
  {
   "cell_type": "markdown",
   "id": "d35e56d5",
   "metadata": {},
   "source": [
    "#### Bayesian Mean Estimation (BME)"
   ]
  },
  {
   "cell_type": "markdown",
   "id": "8823b27f",
   "metadata": {},
   "source": []
  },
  {
   "cell_type": "markdown",
   "id": "f75927e7",
   "metadata": {},
   "source": [
    "### Benchmarks and comparisons"
   ]
  },
  {
   "cell_type": "markdown",
   "id": "0f4785ed",
   "metadata": {},
   "source": []
  },
  {
   "cell_type": "markdown",
   "id": "31aee8bc",
   "metadata": {},
   "source": []
  },
  {
   "cell_type": "code",
   "execution_count": 1,
   "id": "0b1b1b5a",
   "metadata": {},
   "outputs": [],
   "source": [
    "# Importing libraries\n",
    "import numpy as np\n",
    "import scipy as sp\n",
    "import pandas as pd\n",
    "import os\n",
    "from pathlib import Path\n",
    "import sys\n",
    "import json\n",
    "from scipy.fft import rfft, irfft, rfftfreq\n",
    "from tqdm import tqdm\n",
    "import matplotlib.pyplot as plt\n",
    "from matplotlib.ticker import (MultipleLocator, AutoMinorLocator)\n",
    "\n",
    "# Importing functions\n",
    "\n",
    "\n",
    "# Global plot style settings\n",
    "plt.rcParams.update({\n",
    "    \"font.family\": \"serif\",\n",
    "    \"font.serif\": [\"DejaVu Serif\"],\n",
    "    \"mathtext.fontset\": \"cm\",            # Use Computer Modern for math\n",
    "    \"font.size\": 14,                     # Base font size\n",
    "    \"axes.labelsize\": 16,                # Axis label font size\n",
    "    \"axes.titlesize\": 16,                # Title font size\n",
    "    \"legend.fontsize\": 13,               # Legend font size\n",
    "    \"xtick.labelsize\": 13,               # X tick label size\n",
    "    \"ytick.labelsize\": 13,               # Y tick label size\n",
    "    \"axes.linewidth\": 1.2,               # Thicker axis lines\n",
    "    \"xtick.direction\": \"in\",             # x-yick direction\n",
    "    \"ytick.direction\": \"in\",             # y-tick direction\n",
    "    \"text.usetex\": False,                # Enable LaTeX if needed\n",
    "    \"figure.dpi\": 100,                   # Good resolution for screens\n",
    "    \"savefig.dpi\": 300                   # High resolution for saving\n",
    "})\n",
    "\n",
    "# Define function for nice plotting\n",
    "def PlotSettings(ax, gridlines=False, minimalist=False):\n",
    "    # Minor ticks\n",
    "    ax.xaxis.set_minor_locator(AutoMinorLocator())\n",
    "    ax.yaxis.set_minor_locator(AutoMinorLocator())\n",
    "    # Minimalist style\n",
    "    if minimalist:\n",
    "        # Hide top and right spines (borders)\n",
    "        ax.spines['top'].set_visible(False)\n",
    "        ax.spines['right'].set_visible(False)\n",
    "        # Ticks only on bottom and left\n",
    "        ax.tick_params(which='both', top=False, right=False)\n",
    "    else:\n",
    "        # Tick parameters\n",
    "        ax.tick_params(which='both', direction='in', top=True, right=True)\n",
    "        ax.tick_params(which='major', length=7, width=1.2)\n",
    "        ax.tick_params(which='minor', length=4, width=1)\n",
    "    # Optional grid\n",
    "    if gridlines:\n",
    "        ax.grid(True, which=\"major\", linestyle=\"--\", linewidth=0.6, alpha=0.7)\n",
    "        ax.grid(True, which=\"minor\", linestyle=\":\", linewidth=0.5, alpha=0.4)"
   ]
  },
  {
   "cell_type": "code",
   "execution_count": 6,
   "id": "523370ce",
   "metadata": {},
   "outputs": [
    {
     "name": "stdout",
     "output_type": "stream",
     "text": [
      "Selected folder: C:/Users/tbrav/OneDrive - Danmarks Tekniske Universitet/Engineering Physics - MSc/Sem 2/10387 Scientific Computing in Quantum Information Science/Homodyne-Tomograpy/data/data-tora\n"
     ]
    },
    {
     "ename": "KeyboardInterrupt",
     "evalue": "",
     "output_type": "error",
     "traceback": [
      "\u001b[31m---------------------------------------------------------------------------\u001b[39m",
      "\u001b[31mKeyboardInterrupt\u001b[39m                         Traceback (most recent call last)",
      "\u001b[36mCell\u001b[39m\u001b[36m \u001b[39m\u001b[32mIn[6]\u001b[39m\u001b[32m, line 56\u001b[39m\n\u001b[32m     53\u001b[39m label = tk.Label(root, text=\u001b[33m\"\u001b[39m\u001b[33mNo folder selected\u001b[39m\u001b[33m\"\u001b[39m, wraplength=\u001b[32m400\u001b[39m)\n\u001b[32m     54\u001b[39m label.pack(pady=\u001b[32m10\u001b[39m)\n\u001b[32m---> \u001b[39m\u001b[32m56\u001b[39m \u001b[43mroot\u001b[49m\u001b[43m.\u001b[49m\u001b[43mmainloop\u001b[49m\u001b[43m(\u001b[49m\u001b[43m)\u001b[49m\n",
      "\u001b[36mFile \u001b[39m\u001b[32m~\\AppData\\Roaming\\uv\\python\\cpython-3.13.5-windows-x86_64-none\\Lib\\tkinter\\__init__.py:1599\u001b[39m, in \u001b[36mMisc.mainloop\u001b[39m\u001b[34m(self, n)\u001b[39m\n\u001b[32m   1597\u001b[39m \u001b[38;5;28;01mdef\u001b[39;00m\u001b[38;5;250m \u001b[39m\u001b[34mmainloop\u001b[39m(\u001b[38;5;28mself\u001b[39m, n=\u001b[32m0\u001b[39m):\n\u001b[32m   1598\u001b[39m \u001b[38;5;250m    \u001b[39m\u001b[33;03m\"\"\"Call the mainloop of Tk.\"\"\"\u001b[39;00m\n\u001b[32m-> \u001b[39m\u001b[32m1599\u001b[39m     \u001b[38;5;28;43mself\u001b[39;49m\u001b[43m.\u001b[49m\u001b[43mtk\u001b[49m\u001b[43m.\u001b[49m\u001b[43mmainloop\u001b[49m\u001b[43m(\u001b[49m\u001b[43mn\u001b[49m\u001b[43m)\u001b[49m\n",
      "\u001b[31mKeyboardInterrupt\u001b[39m: "
     ]
    }
   ],
   "source": [
    "import tkinter as tk\n",
    "from tkinter import filedialog, messagebox\n",
    "import os\n",
    "\n",
    "# Files we expect in the folder\n",
    "REQUIRED_FILES = [\"data.txt\", \"config.json\"]\n",
    "\n",
    "folder_path = None\n",
    "\n",
    "def select_folder():\n",
    "    global folder_path\n",
    "    folder = filedialog.askdirectory(title=\"Select a folder\", parent=root)\n",
    "    if folder:\n",
    "        folder_path = folder\n",
    "        label.config(text=f\"Selected: {folder}\")\n",
    "        print(\"Selected folder:\", folder)\n",
    "    else:\n",
    "        folder_path = None\n",
    "        label.config(text=\"No folder selected\")\n",
    "\n",
    "def process_data():\n",
    "    if not folder_path:\n",
    "        messagebox.showerror(\"Error\", \"No folder selected!\")\n",
    "        return\n",
    "\n",
    "    # Check required files\n",
    "    missing = [f for f in REQUIRED_FILES if not os.path.isfile(os.path.join(folder_path, f))]\n",
    "    if missing:\n",
    "        messagebox.showerror(\"Error\", f\"Missing required files: {', '.join(missing)}\")\n",
    "        return\n",
    "\n",
    "    # If everything is fine\n",
    "    messagebox.showinfo(\"Success\", \"Folder contains all required files. Processing...\")\n",
    "    print(\"Processing data in:\", folder_path)\n",
    "    # ---- Your data processing code goes here ----\n",
    "\n",
    "root = tk.Tk()\n",
    "root.title(\"Folder Selector\")\n",
    "\n",
    "# Make sure the window starts in front\n",
    "root.lift()\n",
    "root.attributes('-topmost', True)\n",
    "root.after_idle(root.attributes, '-topmost', False)\n",
    "\n",
    "# Buttons\n",
    "button_select = tk.Button(root, text=\"Choose Folder\", command=select_folder, padx=10, pady=5)\n",
    "button_select.pack(pady=10)\n",
    "\n",
    "button_process = tk.Button(root, text=\"Process Data\", command=process_data, padx=10, pady=5)\n",
    "button_process.pack(pady=10)\n",
    "\n",
    "# Label\n",
    "label = tk.Label(root, text=\"No folder selected\", wraplength=400)\n",
    "label.pack(pady=10)\n",
    "\n",
    "root.mainloop()\n"
   ]
  },
  {
   "cell_type": "code",
   "execution_count": null,
   "id": "d472389a",
   "metadata": {},
   "outputs": [],
   "source": []
  },
  {
   "cell_type": "markdown",
   "id": "b8cda860",
   "metadata": {},
   "source": []
  }
 ],
 "metadata": {
  "kernelspec": {
   "display_name": "HT",
   "language": "python",
   "name": "python3"
  },
  "language_info": {
   "codemirror_mode": {
    "name": "ipython",
    "version": 3
   },
   "file_extension": ".py",
   "mimetype": "text/x-python",
   "name": "python",
   "nbconvert_exporter": "python",
   "pygments_lexer": "ipython3",
   "version": "3.13.5"
  }
 },
 "nbformat": 4,
 "nbformat_minor": 5
}
